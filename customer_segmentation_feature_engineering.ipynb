{
 "cells": [
  {
   "cell_type": "markdown",
   "id": "6b9de35b",
   "metadata": {},
   "source": [
    "# Customer Segmentation for E-commerce: EDA and Feature Engineering"
   ]
  },
  {
   "cell_type": "markdown",
   "id": "b4ab25c2",
   "metadata": {},
   "source": [
    "# 0. Project Objective\n",
    "The primary goal of this project is to perform customer segmentation for a UK-based online retailer. By leveraging clustering algorithms, we aim to uncover distinct customer profiles based on their transaction history. These insights can help the business understand customer preferences, enabling targeted marketing campaigns, personalized recommendations, and improved inventory management.\n",
    "\n",
    "This notebook focuses on the initial, critical stages of the project:\n",
    "\n",
    "1. Exploratory Data Analysis (EDA): To understand the structure, patterns, and quality of the raw transaction data.\n",
    "\n",
    "2. Data Cleaning & Preprocessing: To handle missing values, duplicates, and outliers, ensuring the data is reliable for modeling.\n",
    "\n",
    "3. Feature Engineering: To create meaningful new features that capture customer behavior, such as RFM (Recency, Frequency, Monetary) metrics and product category preferences.\n",
    "\n",
    "The features engineered here will be used in subsequent stages to build and evaluate clustering models like K-Means and DBSCAN. The final clusters will be visualized using PCA and evaluated with the silhouette score to measure their quality."
   ]
  },
  {
   "cell_type": "code",
   "execution_count": 1,
   "id": "09d520f0",
   "metadata": {},
   "outputs": [],
   "source": [
    "# Importing necessary Libraries\n",
    "import warnings\n",
    "warnings.filterwarnings('ignore')\n",
    "\n",
    "import numpy as np\n",
    "import pandas as pd\n",
    "import matplotlib.pyplot as plt\n",
    "import seaborn as sns\n",
    "\n",
    "from sklearn.feature_extraction.text import CountVectorizer\n",
    "import re\n",
    "from wordcloud import WordCloud\n",
    "\n",
    "from sklearn.compose import ColumnTransformer\n",
    "from sklearn.preprocessing import StandardScaler\n",
    "from sklearn.preprocessing import OneHotEncoder\n",
    "\n",
    "root = '/Users/mina/Documents/GitHub/customer_segmentation/'"
   ]
  },
  {
   "cell_type": "markdown",
   "id": "2a906bd6",
   "metadata": {},
   "source": [
    "# 1. Dataset Exploration\n",
    "## 1.1 Data and Feature Descriptions\n",
    "\n",
    "This dataset is from [The UCI Machine Learning Repository]('https://archive.ics.uci.edu/dataset/352/online+retail') and contains transactions occurring between 01/12/2010 and 09/12/2011 for a UK-based online retail store. The company primarily sells unique all-occasion gifts, and many of its customers are wholesalers.\n",
    "\n",
    "The dataset contains 541,909 records and has the following 8 features:\n",
    "\n",
    "* `InvoiceNo`: A 6-digit number uniquely assigned to each transaction. If this code starts with 'C', it indicates a cancellation.\n",
    "* `StockCode`: A 5-digit number uniquely assigned to each distinct product.\n",
    "* `Description`: The name of the product.\n",
    "* `Quantity`: The number of units of each product per transaction.\n",
    "* `InvoiceDate`: The date and time when the transaction occurred.\n",
    "* `UnitPrice`: The price per unit of the product.\n",
    "* `CustomerID`: A 5-digit number uniquely assigned to each customer.\n",
    "* `Country`: The name of the country where the customer resides."
   ]
  },
  {
   "cell_type": "markdown",
   "id": "62d7c4a5",
   "metadata": {},
   "source": [
    "## 1.2 Import Data"
   ]
  },
  {
   "cell_type": "code",
   "execution_count": 2,
   "id": "d16218d0",
   "metadata": {},
   "outputs": [
    {
     "data": {
      "text/html": [
       "<div>\n",
       "<style scoped>\n",
       "    .dataframe tbody tr th:only-of-type {\n",
       "        vertical-align: middle;\n",
       "    }\n",
       "\n",
       "    .dataframe tbody tr th {\n",
       "        vertical-align: top;\n",
       "    }\n",
       "\n",
       "    .dataframe thead th {\n",
       "        text-align: right;\n",
       "    }\n",
       "</style>\n",
       "<table border=\"1\" class=\"dataframe\">\n",
       "  <thead>\n",
       "    <tr style=\"text-align: right;\">\n",
       "      <th></th>\n",
       "      <th>InvoiceNo</th>\n",
       "      <th>StockCode</th>\n",
       "      <th>Description</th>\n",
       "      <th>Quantity</th>\n",
       "      <th>InvoiceDate</th>\n",
       "      <th>UnitPrice</th>\n",
       "      <th>CustomerID</th>\n",
       "      <th>Country</th>\n",
       "    </tr>\n",
       "  </thead>\n",
       "  <tbody>\n",
       "    <tr>\n",
       "      <th>0</th>\n",
       "      <td>536365</td>\n",
       "      <td>85123A</td>\n",
       "      <td>WHITE HANGING HEART T-LIGHT HOLDER</td>\n",
       "      <td>6</td>\n",
       "      <td>12/1/2010 8:26</td>\n",
       "      <td>2.55</td>\n",
       "      <td>17850.0</td>\n",
       "      <td>United Kingdom</td>\n",
       "    </tr>\n",
       "    <tr>\n",
       "      <th>1</th>\n",
       "      <td>536365</td>\n",
       "      <td>71053</td>\n",
       "      <td>WHITE METAL LANTERN</td>\n",
       "      <td>6</td>\n",
       "      <td>12/1/2010 8:26</td>\n",
       "      <td>3.39</td>\n",
       "      <td>17850.0</td>\n",
       "      <td>United Kingdom</td>\n",
       "    </tr>\n",
       "    <tr>\n",
       "      <th>2</th>\n",
       "      <td>536365</td>\n",
       "      <td>84406B</td>\n",
       "      <td>CREAM CUPID HEARTS COAT HANGER</td>\n",
       "      <td>8</td>\n",
       "      <td>12/1/2010 8:26</td>\n",
       "      <td>2.75</td>\n",
       "      <td>17850.0</td>\n",
       "      <td>United Kingdom</td>\n",
       "    </tr>\n",
       "    <tr>\n",
       "      <th>3</th>\n",
       "      <td>536365</td>\n",
       "      <td>84029G</td>\n",
       "      <td>KNITTED UNION FLAG HOT WATER BOTTLE</td>\n",
       "      <td>6</td>\n",
       "      <td>12/1/2010 8:26</td>\n",
       "      <td>3.39</td>\n",
       "      <td>17850.0</td>\n",
       "      <td>United Kingdom</td>\n",
       "    </tr>\n",
       "    <tr>\n",
       "      <th>4</th>\n",
       "      <td>536365</td>\n",
       "      <td>84029E</td>\n",
       "      <td>RED WOOLLY HOTTIE WHITE HEART.</td>\n",
       "      <td>6</td>\n",
       "      <td>12/1/2010 8:26</td>\n",
       "      <td>3.39</td>\n",
       "      <td>17850.0</td>\n",
       "      <td>United Kingdom</td>\n",
       "    </tr>\n",
       "  </tbody>\n",
       "</table>\n",
       "</div>"
      ],
      "text/plain": [
       "  InvoiceNo StockCode                          Description  Quantity  \\\n",
       "0    536365    85123A   WHITE HANGING HEART T-LIGHT HOLDER         6   \n",
       "1    536365     71053                  WHITE METAL LANTERN         6   \n",
       "2    536365    84406B       CREAM CUPID HEARTS COAT HANGER         8   \n",
       "3    536365    84029G  KNITTED UNION FLAG HOT WATER BOTTLE         6   \n",
       "4    536365    84029E       RED WOOLLY HOTTIE WHITE HEART.         6   \n",
       "\n",
       "      InvoiceDate  UnitPrice  CustomerID         Country  \n",
       "0  12/1/2010 8:26       2.55     17850.0  United Kingdom  \n",
       "1  12/1/2010 8:26       3.39     17850.0  United Kingdom  \n",
       "2  12/1/2010 8:26       2.75     17850.0  United Kingdom  \n",
       "3  12/1/2010 8:26       3.39     17850.0  United Kingdom  \n",
       "4  12/1/2010 8:26       3.39     17850.0  United Kingdom  "
      ]
     },
     "execution_count": 2,
     "metadata": {},
     "output_type": "execute_result"
    }
   ],
   "source": [
    "# Load the dataset from a CSV file\n",
    "data = pd.read_csv(root + 'online_retail.csv', encoding='ISO-8859-1')\n",
    "data.head()"
   ]
  },
  {
   "cell_type": "code",
   "execution_count": 3,
   "id": "f75f7bd6",
   "metadata": {},
   "outputs": [
    {
     "data": {
      "text/plain": [
       "(541909, 8)"
      ]
     },
     "execution_count": 3,
     "metadata": {},
     "output_type": "execute_result"
    }
   ],
   "source": [
    "# Check the dimensions of the dataframe\n",
    "data.shape"
   ]
  },
  {
   "cell_type": "code",
   "execution_count": 4,
   "id": "72125dda",
   "metadata": {},
   "outputs": [
    {
     "data": {
      "text/plain": [
       "5268"
      ]
     },
     "execution_count": 4,
     "metadata": {},
     "output_type": "execute_result"
    }
   ],
   "source": [
    "# Check for duplicated rows\n",
    "data.duplicated().sum()"
   ]
  },
  {
   "cell_type": "code",
   "execution_count": 5,
   "id": "11105b8e",
   "metadata": {},
   "outputs": [
    {
     "name": "stdout",
     "output_type": "stream",
     "text": [
      "<class 'pandas.core.frame.DataFrame'>\n",
      "RangeIndex: 541909 entries, 0 to 541908\n",
      "Data columns (total 8 columns):\n",
      " #   Column       Non-Null Count   Dtype  \n",
      "---  ------       --------------   -----  \n",
      " 0   InvoiceNo    541909 non-null  object \n",
      " 1   StockCode    541909 non-null  object \n",
      " 2   Description  540455 non-null  object \n",
      " 3   Quantity     541909 non-null  int64  \n",
      " 4   InvoiceDate  541909 non-null  object \n",
      " 5   UnitPrice    541909 non-null  float64\n",
      " 6   CustomerID   406829 non-null  float64\n",
      " 7   Country      541909 non-null  object \n",
      "dtypes: float64(2), int64(1), object(5)\n",
      "memory usage: 33.1+ MB\n"
     ]
    }
   ],
   "source": [
    "# Get a concise summary of the dataframe\n",
    "data.info()"
   ]
  },
  {
   "cell_type": "code",
   "execution_count": 6,
   "id": "cf90fbaa",
   "metadata": {},
   "outputs": [
    {
     "data": {
      "text/plain": [
       "InvoiceNo           0\n",
       "StockCode           0\n",
       "Description      1454\n",
       "Quantity            0\n",
       "InvoiceDate         0\n",
       "UnitPrice           0\n",
       "CustomerID     135080\n",
       "Country             0\n",
       "dtype: int64"
      ]
     },
     "execution_count": 6,
     "metadata": {},
     "output_type": "execute_result"
    }
   ],
   "source": [
    "# Check for missing values in each column\n",
    "data.isna().sum()"
   ]
  },
  {
   "cell_type": "markdown",
   "id": "f306bbe4",
   "metadata": {},
   "source": [
    "** Initial Findings: **\n",
    "\n",
    "* The dataset has 541909 rows and 8 columns.\n",
    "* There are 135080 missing `CustomerID`s and 1454 `Description`s.\n",
    "* There are 5268 duplicated rows in the dataset.\n",
    "* Three ID columns (`InvoiceNo`, `StockCode`, `CustomerID`) is unique assigned value thus each ID should be treated Nominal *category* not a continous number as *float*."
   ]
  },
  {
   "cell_type": "markdown",
   "id": "e5dec8da",
   "metadata": {},
   "source": [
    "## 1.3 Data Cleaning"
   ]
  },
  {
   "cell_type": "code",
   "execution_count": 7,
   "id": "44cba9b7",
   "metadata": {},
   "outputs": [
    {
     "data": {
      "text/plain": [
       "0"
      ]
     },
     "execution_count": 7,
     "metadata": {},
     "output_type": "execute_result"
    }
   ],
   "source": [
    "# Remove duplicated rows from the dataset\n",
    "data = data.drop_duplicates()\n",
    "data.duplicated().sum()"
   ]
  },
  {
   "cell_type": "code",
   "execution_count": 8,
   "id": "3c140e74",
   "metadata": {},
   "outputs": [
    {
     "name": "stdout",
     "output_type": "stream",
     "text": [
      "Percentage of missing CustomerID: 25.16%\n",
      "Percentage of missing Description: 0.27%\n"
     ]
    }
   ],
   "source": [
    "# Check the percentage of missing values for key columns\n",
    "print(f\"Percentage of missing CustomerID: {round(data['CustomerID'].isna().sum() / len(data) * 100,2)}%\")\n",
    "print(f\"Percentage of missing Description: {round(data['Description'].isna().sum() / len(data) * 100,2)}%\")"
   ]
  },
  {
   "cell_type": "markdown",
   "id": "e8c0c5a2",
   "metadata": {},
   "source": [
    "About 25% of records are missing a `CustomerID`. Since the primary goal is customer segmentation, records without a `CustomerID` are not useful for creating customer-level profiles and will be removed. The missing `Description` records (0.27%) are negligible and will also be dropped."
   ]
  },
  {
   "cell_type": "code",
   "execution_count": 9,
   "id": "d5c04f28",
   "metadata": {},
   "outputs": [
    {
     "name": "stdout",
     "output_type": "stream",
     "text": [
      "<class 'pandas.core.frame.DataFrame'>\n",
      "Index: 401604 entries, 0 to 541908\n",
      "Data columns (total 8 columns):\n",
      " #   Column       Non-Null Count   Dtype  \n",
      "---  ------       --------------   -----  \n",
      " 0   InvoiceNo    401604 non-null  object \n",
      " 1   StockCode    401604 non-null  object \n",
      " 2   Description  401604 non-null  object \n",
      " 3   Quantity     401604 non-null  int64  \n",
      " 4   InvoiceDate  401604 non-null  object \n",
      " 5   UnitPrice    401604 non-null  float64\n",
      " 6   CustomerID   401604 non-null  float64\n",
      " 7   Country      401604 non-null  object \n",
      "dtypes: float64(2), int64(1), object(5)\n",
      "memory usage: 27.6+ MB\n"
     ]
    }
   ],
   "source": [
    "# Remove rows with missing Description or CustomerID\n",
    "data = data.dropna(subset=['Description', 'CustomerID'])\n",
    "data.info()"
   ]
  },
  {
   "cell_type": "code",
   "execution_count": 10,
   "id": "c8de9704",
   "metadata": {},
   "outputs": [
    {
     "data": {
      "text/plain": [
       "InvoiceNo       object\n",
       "StockCode       object\n",
       "Description     object\n",
       "Quantity         int64\n",
       "InvoiceDate     object\n",
       "UnitPrice      float64\n",
       "CustomerID      object\n",
       "Country         object\n",
       "dtype: object"
      ]
     },
     "execution_count": 10,
     "metadata": {},
     "output_type": "execute_result"
    }
   ],
   "source": [
    "# Convert CustomerID from float to a string for categorical treatment\n",
    "data['CustomerID'] = data['CustomerID'].astype(int).astype(str)\n",
    "data.dtypes"
   ]
  },
  {
   "cell_type": "markdown",
   "id": "cbca8262",
   "metadata": {},
   "source": [
    "## 1.4 Exploratory Data Analysis (EDA)"
   ]
  },
  {
   "cell_type": "markdown",
   "id": "9d00c3de",
   "metadata": {},
   "source": [
    "### 1.4.1 Continous Variables"
   ]
  },
  {
   "cell_type": "code",
   "execution_count": 11,
   "id": "8e0fed76",
   "metadata": {},
   "outputs": [
    {
     "data": {
      "text/html": [
       "<div>\n",
       "<style scoped>\n",
       "    .dataframe tbody tr th:only-of-type {\n",
       "        vertical-align: middle;\n",
       "    }\n",
       "\n",
       "    .dataframe tbody tr th {\n",
       "        vertical-align: top;\n",
       "    }\n",
       "\n",
       "    .dataframe thead th {\n",
       "        text-align: right;\n",
       "    }\n",
       "</style>\n",
       "<table border=\"1\" class=\"dataframe\">\n",
       "  <thead>\n",
       "    <tr style=\"text-align: right;\">\n",
       "      <th></th>\n",
       "      <th>Quantity</th>\n",
       "      <th>UnitPrice</th>\n",
       "    </tr>\n",
       "  </thead>\n",
       "  <tbody>\n",
       "    <tr>\n",
       "      <th>count</th>\n",
       "      <td>401604.00</td>\n",
       "      <td>401604.00</td>\n",
       "    </tr>\n",
       "    <tr>\n",
       "      <th>mean</th>\n",
       "      <td>12.18</td>\n",
       "      <td>3.47</td>\n",
       "    </tr>\n",
       "    <tr>\n",
       "      <th>std</th>\n",
       "      <td>250.28</td>\n",
       "      <td>69.76</td>\n",
       "    </tr>\n",
       "    <tr>\n",
       "      <th>min</th>\n",
       "      <td>-80995.00</td>\n",
       "      <td>0.00</td>\n",
       "    </tr>\n",
       "    <tr>\n",
       "      <th>25%</th>\n",
       "      <td>2.00</td>\n",
       "      <td>1.25</td>\n",
       "    </tr>\n",
       "    <tr>\n",
       "      <th>50%</th>\n",
       "      <td>5.00</td>\n",
       "      <td>1.95</td>\n",
       "    </tr>\n",
       "    <tr>\n",
       "      <th>75%</th>\n",
       "      <td>12.00</td>\n",
       "      <td>3.75</td>\n",
       "    </tr>\n",
       "    <tr>\n",
       "      <th>max</th>\n",
       "      <td>80995.00</td>\n",
       "      <td>38970.00</td>\n",
       "    </tr>\n",
       "  </tbody>\n",
       "</table>\n",
       "</div>"
      ],
      "text/plain": [
       "        Quantity  UnitPrice\n",
       "count  401604.00  401604.00\n",
       "mean       12.18       3.47\n",
       "std       250.28      69.76\n",
       "min    -80995.00       0.00\n",
       "25%         2.00       1.25\n",
       "50%         5.00       1.95\n",
       "75%        12.00       3.75\n",
       "max     80995.00   38970.00"
      ]
     },
     "execution_count": 11,
     "metadata": {},
     "output_type": "execute_result"
    }
   ],
   "source": [
    "# Summary statistics for continous values\n",
    "data[['Quantity', 'UnitPrice']].describe().round(2)"
   ]
  },
  {
   "cell_type": "code",
   "execution_count": 12,
   "id": "5af6d61c",
   "metadata": {},
   "outputs": [
    {
     "data": {
      "image/png": "[encoded data removed]",
      "text/plain": [
       "<Figure size 1000x500 with 2 Axes>"
      ]
     },
     "metadata": {},
     "output_type": "display_data"
    }
   ],
   "source": [
    "# Boxplot of Quantity and UnitPrice\n",
    "fig, ax = plt.subplots(1, 2, figsize=(10, 5))\n",
    "sns.boxplot(y='Quantity', data=data, palette=['blue', 'red'], ax=ax[0])\n",
    "sns.boxplot(y='UnitPrice', data=data, palette=['blue', 'red'], ax=ax[1])\n",
    "ax[0].set_title('Boxplot of Quantity')\n",
    "ax[1].set_title('Boxplot of UnitPrice')\n",
    "plt.tight_layout()\n",
    "plt.show()"
   ]
  },
  {
   "cell_type": "markdown",
   "id": "bfea8cf9",
   "metadata": {},
   "source": [
    "**Observation**\n",
    "\n",
    "* **Quantity**:\n",
    "    * Negative values are present, which indicate canceled orders.\n",
    "    * Extreme outliers (e.g., 80,995 and -80,995) exist, likely representing data entry errors or large canceled orders.\n",
    "    * The distribution is heavily skewed, with a median of 5 units per transaction, suggesting most orders are small.\n",
    "\n",
    "* **UnitPrice**:\n",
    "   * The minimum price is 0.0, which could represent promotional items or data errors.\n",
    "    * Extreme high values are present, skewing the mean. The median price of 1.95 suggests most items are low-cost gifts.\n",
    "    * The distribution is also highly skewed due to outliers.\n",
    "\n",
    "To handle these extreme and likely erroneous values, we will filter the data based on quantiles to remove the most unrealistic outliers."
   ]
  },
  {
   "cell_type": "code",
   "execution_count": 13,
   "id": "b2e0f44f",
   "metadata": {},
   "outputs": [],
   "source": [
    "# Define a function to calculate outlier cutoffs using the percentile method\n",
    "def outlier_cutoffs(df, column, lower_pct=0.01, upper_pct=0.99):\n",
    "    \"\"\"Return cutoff values using Percentile methods.\"\"\"\n",
    "    # Percentile Method\n",
    "    lower_pct_val = df[column].quantile(lower_pct)\n",
    "    upper_pct_val = df[column].quantile(upper_pct)\n",
    "    \n",
    "    return {\n",
    "        \"Percentile_lower\": lower_pct_val, \"Percentile_upper\": upper_pct_val\n",
    "    }"
   ]
  },
  {
   "cell_type": "code",
   "execution_count": 14,
   "id": "20558641",
   "metadata": {},
   "outputs": [
    {
     "data": {
      "text/plain": [
       "{'Percentile_lower': -2.0, 'Percentile_upper': 120.0}"
      ]
     },
     "execution_count": 14,
     "metadata": {},
     "output_type": "execute_result"
    }
   ],
   "source": [
    "# Calculate cutoffs for Quantity\n",
    "outlier_cutoffs(data, \"Quantity\")"
   ]
  },
  {
   "cell_type": "code",
   "execution_count": 15,
   "id": "648b13af",
   "metadata": {},
   "outputs": [
    {
     "data": {
      "text/plain": [
       "{'Percentile_lower': 0.21, 'Percentile_upper': 15.0}"
      ]
     },
     "execution_count": 15,
     "metadata": {},
     "output_type": "execute_result"
    }
   ],
   "source": [
    "# Calculate cutoffs for UnitPrice\n",
    "outlier_cutoffs(data, \"UnitPrice\")"
   ]
  },
  {
   "cell_type": "code",
   "execution_count": 16,
   "id": "e967156b",
   "metadata": {},
   "outputs": [],
   "source": [
    "# Filter the data to remove unrealistic outliers based on the 99th percentile\n",
    "data = data[(data['Quantity'] > -2) & (data['Quantity'] < 100)]\n",
    "data = data[(data['UnitPrice'] > 0.19) & (data['UnitPrice'] < 18)]"
   ]
  },
  {
   "cell_type": "code",
   "execution_count": 17,
   "id": "9b8db2c8",
   "metadata": {},
   "outputs": [
    {
     "data": {
      "image/png": "[encoded data removed]",
      "text/plain": [
       "<Figure size 1000x500 with 2 Axes>"
      ]
     },
     "metadata": {},
     "output_type": "display_data"
    }
   ],
   "source": [
    "# Boxplots after removing outliers\n",
    "fig, ax = plt.subplots(1, 2, figsize=(10, 5))\n",
    "sns.boxplot(y='Quantity', data=data, ax=ax[0])\n",
    "sns.boxplot(y='UnitPrice', data=data, ax=ax[1])\n",
    "ax[0].set_title('Boxplot of Quantity')\n",
    "ax[1].set_title('Boxplot of UnitPrice')\n",
    "plt.tight_layout()"
   ]
  },
  {
   "cell_type": "markdown",
   "id": "afb252dc",
   "metadata": {},
   "source": [
    "After removing the most extreme outliers, the`Quantity` and `UnitPrice` distributions reflect more realistic shopping behavior, primarily consisting of low-priced items purchased in small to moderate quantities."
   ]
  },
  {
   "cell_type": "markdown",
   "id": "3cddfce1",
   "metadata": {},
   "source": [
    "### 1.4.2 Categorical Variables"
   ]
  },
  {
   "cell_type": "code",
   "execution_count": 18,
   "id": "03df3d49",
   "metadata": {},
   "outputs": [
    {
     "data": {
      "text/html": [
       "<div>\n",
       "<style scoped>\n",
       "    .dataframe tbody tr th:only-of-type {\n",
       "        vertical-align: middle;\n",
       "    }\n",
       "\n",
       "    .dataframe tbody tr th {\n",
       "        vertical-align: top;\n",
       "    }\n",
       "\n",
       "    .dataframe thead th {\n",
       "        text-align: right;\n",
       "    }\n",
       "</style>\n",
       "<table border=\"1\" class=\"dataframe\">\n",
       "  <thead>\n",
       "    <tr style=\"text-align: right;\">\n",
       "      <th></th>\n",
       "      <th>count</th>\n",
       "      <th>unique</th>\n",
       "      <th>top</th>\n",
       "      <th>freq</th>\n",
       "    </tr>\n",
       "  </thead>\n",
       "  <tbody>\n",
       "    <tr>\n",
       "      <th>InvoiceNo</th>\n",
       "      <td>385205</td>\n",
       "      <td>19833</td>\n",
       "      <td>576339</td>\n",
       "      <td>540</td>\n",
       "    </tr>\n",
       "    <tr>\n",
       "      <th>StockCode</th>\n",
       "      <td>385205</td>\n",
       "      <td>3617</td>\n",
       "      <td>85123A</td>\n",
       "      <td>2010</td>\n",
       "    </tr>\n",
       "    <tr>\n",
       "      <th>Description</th>\n",
       "      <td>385205</td>\n",
       "      <td>3824</td>\n",
       "      <td>WHITE HANGING HEART T-LIGHT HOLDER</td>\n",
       "      <td>2003</td>\n",
       "    </tr>\n",
       "    <tr>\n",
       "      <th>InvoiceDate</th>\n",
       "      <td>385205</td>\n",
       "      <td>18449</td>\n",
       "      <td>11/14/2011 15:27</td>\n",
       "      <td>540</td>\n",
       "    </tr>\n",
       "    <tr>\n",
       "      <th>CustomerID</th>\n",
       "      <td>385205</td>\n",
       "      <td>4297</td>\n",
       "      <td>17841</td>\n",
       "      <td>7696</td>\n",
       "    </tr>\n",
       "    <tr>\n",
       "      <th>Country</th>\n",
       "      <td>385205</td>\n",
       "      <td>37</td>\n",
       "      <td>United Kingdom</td>\n",
       "      <td>344420</td>\n",
       "    </tr>\n",
       "  </tbody>\n",
       "</table>\n",
       "</div>"
      ],
      "text/plain": [
       "              count unique                                 top    freq\n",
       "InvoiceNo    385205  19833                              576339     540\n",
       "StockCode    385205   3617                              85123A    2010\n",
       "Description  385205   3824  WHITE HANGING HEART T-LIGHT HOLDER    2003\n",
       "InvoiceDate  385205  18449                    11/14/2011 15:27     540\n",
       "CustomerID   385205   4297                               17841    7696\n",
       "Country      385205     37                      United Kingdom  344420"
      ]
     },
     "execution_count": 18,
     "metadata": {},
     "output_type": "execute_result"
    }
   ],
   "source": [
    "# Generate descriptive statistics for categorical columns\n",
    "data.describe(include=['object']).T"
   ]
  },
  {
   "cell_type": "markdown",
   "id": "4dcf12e5",
   "metadata": {},
   "source": [
    "**Observations**:\n",
    "\n",
    "* **Customer Base**: the dataset now includes approximately 4,295 unique customers (`CustomerID`).\n",
    "* **Product Fange**: There are over 3,600 unique products (`StockCode`), though sales are likely concentrated among a smaller subset of popular items.\n",
    "* **Geographic Distribution**: The customer base is heavily dominated by the UK, meaning any resulting clusters will primarily reflect UK consumer behavior."
   ]
  },
  {
   "cell_type": "markdown",
   "id": "9312faa3",
   "metadata": {},
   "source": [
    "### 1.4.3 Time Series Analysis"
   ]
  },
  {
   "cell_type": "code",
   "execution_count": 19,
   "id": "01605ec8",
   "metadata": {},
   "outputs": [
    {
     "data": {
      "text/plain": [
       "0    12/1/2010 8:26\n",
       "1    12/1/2010 8:26\n",
       "2    12/1/2010 8:26\n",
       "3    12/1/2010 8:26\n",
       "4    12/1/2010 8:26\n",
       "5    12/1/2010 8:26\n",
       "6    12/1/2010 8:26\n",
       "7    12/1/2010 8:28\n",
       "8    12/1/2010 8:28\n",
       "9    12/1/2010 8:34\n",
       "Name: InvoiceDate, dtype: object"
      ]
     },
     "execution_count": 19,
     "metadata": {},
     "output_type": "execute_result"
    }
   ],
   "source": [
    "# Display the format of the InvoiceDate column\n",
    "data['InvoiceDate'].head(10)"
   ]
  },
  {
   "cell_type": "code",
   "execution_count": 20,
   "id": "2e627cc7",
   "metadata": {},
   "outputs": [
    {
     "data": {
      "text/plain": [
       "0   2010-12-01 08:26:00\n",
       "1   2010-12-01 08:26:00\n",
       "2   2010-12-01 08:26:00\n",
       "3   2010-12-01 08:26:00\n",
       "4   2010-12-01 08:26:00\n",
       "5   2010-12-01 08:26:00\n",
       "6   2010-12-01 08:26:00\n",
       "7   2010-12-01 08:28:00\n",
       "8   2010-12-01 08:28:00\n",
       "9   2010-12-01 08:34:00\n",
       "Name: InvoiceDate, dtype: datetime64[ns]"
      ]
     },
     "execution_count": 20,
     "metadata": {},
     "output_type": "execute_result"
    }
   ],
   "source": [
    "# Convert the 'InvoiceDate' column to a proper datetime format\n",
    "data['InvoiceDate'] = pd.to_datetime(data['InvoiceDate'])\n",
    "data['InvoiceDate'].head(10)"
   ]
  },
  {
   "cell_type": "code",
   "execution_count": 21,
   "id": "52678c07",
   "metadata": {},
   "outputs": [
    {
     "name": "stdout",
     "output_type": "stream",
     "text": [
      "2010-12-01 08:26:00\n",
      "2011-12-09 12:50:00\n"
     ]
    }
   ],
   "source": [
    "# Determine the date range of the transactions\n",
    "print(data['InvoiceDate'].min())\n",
    "print(data['InvoiceDate'].max())"
   ]
  },
  {
   "cell_type": "code",
   "execution_count": 22,
   "id": "aa78f9d2",
   "metadata": {},
   "outputs": [
    {
     "data": {
      "image/png": "[encoded data removed]",
      "text/plain": [
       "<Figure size 800x500 with 1 Axes>"
      ]
     },
     "metadata": {},
     "output_type": "display_data"
    }
   ],
   "source": [
    "# Plot the density of transactions over time to identify seasonal patterns\n",
    "plt.figure(figsize=(8, 5))\n",
    "sns.kdeplot(data['InvoiceDate'], shade=True, color='blue')\n",
    "plt.title('Distribution of Transaction by InvoiceDate')\n",
    "plt.xlabel('InvoiceDate')\n",
    "plt.ylabel('Density')\n",
    "plt.show()"
   ]
  },
  {
   "cell_type": "markdown",
   "id": "a0620c3b",
   "metadata": {},
   "source": [
    "The plot shows clear yearly seasonality, with transaction density peaking towards the end of the year, likely due to holiday shopping. The 2011 peak is significantly higher than the 2010 peak."
   ]
  },
  {
   "cell_type": "code",
   "execution_count": 23,
   "id": "cfa63c8c",
   "metadata": {},
   "outputs": [],
   "source": [
    "# Define the order of weekdays for plotting\n",
    "weekday_order = ['Monday', 'Tuesday', 'Wednesday', 'Thursday', 'Friday', 'Saturday', 'Sunday']"
   ]
  },
  {
   "cell_type": "code",
   "execution_count": 24,
   "id": "97c50840",
   "metadata": {},
   "outputs": [
    {
     "data": {
      "image/png": "[encoded data removed]",
      "text/plain": [
       "<Figure size 800x400 with 1 Axes>"
      ]
     },
     "metadata": {},
     "output_type": "display_data"
    }
   ],
   "source": [
    "# Calculate the number of unique invoices per day\n",
    "daily = (\n",
    "    data.set_index('InvoiceDate')\n",
    "        .resample('D')['InvoiceNo'].nunique()\n",
    "        .rename('num_invoices')\n",
    "        .reset_index()\n",
    ")\n",
    "\n",
    "# Extract the weekday name\n",
    "daily['weekday'] = pd.Categorical(daily['InvoiceDate'].dt.day_name(),\n",
    "                                  categories=weekday_order, ordered=True)\n",
    "\n",
    "# Calculate the average number of invoices per weekday\n",
    "by_weekday_avg = (daily.groupby('weekday')['num_invoices']\n",
    "                       .mean()\n",
    "                       .round(2)\n",
    "                       .reset_index(name='avg_invoices_per_day'))\n",
    "\n",
    "# Plot the average daily invoices by weekday\n",
    "plt.figure(figsize=(8,4))\n",
    "sns.barplot(data=by_weekday_avg, x='weekday', y='avg_invoices_per_day', color='#59A14F')\n",
    "plt.title('Average daily unique invoices by weekday')\n",
    "plt.xlabel('Weekday'); plt.ylabel('Avg invoices per day')\n",
    "plt.xticks(rotation=30, ha='right'); sns.despine(); plt.tight_layout(); plt.show()"
   ]
  },
  {
   "cell_type": "markdown",
   "id": "242e0875",
   "metadata": {},
   "source": [
    "**Weekly Pattern:**\n",
    "* Customers are most active on weekdays, with transaction volume peaking mid-week.\n",
    "* Weekend activity is significantly lower, which may be due to the company's B2B customer base ordering during standard business hours."
   ]
  },
  {
   "cell_type": "code",
   "execution_count": 25,
   "id": "95dd5e87",
   "metadata": {},
   "outputs": [
    {
     "data": {
      "image/png": "[encoded data removed]",
      "text/plain": [
       "<Figure size 800x400 with 1 Axes>"
      ]
     },
     "metadata": {},
     "output_type": "display_data"
    }
   ],
   "source": [
    "# Define the order of time periods for plotting\n",
    "hourly_order = ['Morning', 'Afternoon', 'Evening', 'Night']\n",
    "\n",
    "# Resample data by hour to get unique invoice counts\n",
    "hourly = (\n",
    "    data.set_index('InvoiceDate')\n",
    "        .resample('H')['InvoiceNo'].nunique()\n",
    "        .rename('num_invoices')\n",
    "        .reset_index()\n",
    ")\n",
    "\n",
    "# Categorize hours into time periods of the day\n",
    "hourly['period'] = pd.Categorical(\n",
    "    pd.cut(hourly['InvoiceDate'].dt.hour, \n",
    "           bins=[-float('inf'), 6, 12, 18, float('inf')],\n",
    "           labels=['Night', 'Morning', 'Afternoon', 'Evening']),\n",
    "    categories=hourly_order, \n",
    "    ordered=True)\n",
    "# Calculate the average hourly invoices by time period\n",
    "by_hourly_avg = (hourly.groupby('period')['num_invoices']\n",
    "                       .mean()\n",
    "                       .round(2)\n",
    "                       .reset_index(name='avg_invoices_per_day'))\n",
    "\n",
    "# Plot the average hourly invoices by time period\n",
    "plt.figure(figsize=(8,4))\n",
    "sns.barplot(data=by_hourly_avg, x='period', y='avg_invoices_per_day', color='#59A14F')\n",
    "plt.title('Average daily unique invoices by hour')\n",
    "plt.xlabel('Hour'); plt.ylabel('Avg invoices per hour')\n",
    "plt.xticks(rotation=30, ha='right'); sns.despine(); plt.tight_layout(); plt.show()"
   ]
  },
  {
   "cell_type": "markdown",
   "id": "5f7df90d",
   "metadata": {},
   "source": [
    "**Daily Pattern:**\n",
    "* Transaction activity is highest during business hours (Morning and Afternoon).\n",
    "* This further supports the hypothesis that a significant portion of customers are wholesalers or corporate clients."
   ]
  },
  {
   "cell_type": "markdown",
   "id": "9615314f",
   "metadata": {},
   "source": [
    "# 2. Feature Engineering\n",
    "In this section, we will create new features from the existing data to better capture patterns in customer behavior. These engineered features will be more informative for the clustering algorithms than the raw data alone."
   ]
  },
  {
   "cell_type": "markdown",
   "id": "05be85df",
   "metadata": {},
   "source": [
    "## 2.1 Categorical & Text Features"
   ]
  },
  {
   "cell_type": "markdown",
   "id": "a1c0b309",
   "metadata": {},
   "source": [
    "### 2.1.1.  InvoiceNo: Identifying Canceled Transactions"
   ]
  },
  {
   "cell_type": "code",
   "execution_count": 26,
   "id": "75c332a4",
   "metadata": {},
   "outputs": [],
   "source": [
    "# Create a binary feature to distinguish between completed and canceled orders\n",
    "data['Cancel_status'] = np.where(data['InvoiceNo'].str.startswith('C'), 'Cancelled', 'Completed')"
   ]
  },
  {
   "cell_type": "code",
   "execution_count": 27,
   "id": "e6c3ff9d",
   "metadata": {},
   "outputs": [
    {
     "data": {
      "text/html": [
       "<div>\n",
       "<style scoped>\n",
       "    .dataframe tbody tr th:only-of-type {\n",
       "        vertical-align: middle;\n",
       "    }\n",
       "\n",
       "    .dataframe tbody tr th {\n",
       "        vertical-align: top;\n",
       "    }\n",
       "\n",
       "    .dataframe thead th {\n",
       "        text-align: right;\n",
       "    }\n",
       "</style>\n",
       "<table border=\"1\" class=\"dataframe\">\n",
       "  <thead>\n",
       "    <tr style=\"text-align: right;\">\n",
       "      <th></th>\n",
       "      <th>count</th>\n",
       "    </tr>\n",
       "    <tr>\n",
       "      <th>Cancel_status</th>\n",
       "      <th></th>\n",
       "    </tr>\n",
       "  </thead>\n",
       "  <tbody>\n",
       "    <tr>\n",
       "      <th>Completed</th>\n",
       "      <td>381614</td>\n",
       "    </tr>\n",
       "    <tr>\n",
       "      <th>Cancelled</th>\n",
       "      <td>3591</td>\n",
       "    </tr>\n",
       "  </tbody>\n",
       "</table>\n",
       "</div>"
      ],
      "text/plain": [
       "                count\n",
       "Cancel_status        \n",
       "Completed      381614\n",
       "Cancelled        3591"
      ]
     },
     "execution_count": 27,
     "metadata": {},
     "output_type": "execute_result"
    }
   ],
   "source": [
    "# Count the number of completed vs. canceled transactions\n",
    "pd.DataFrame(data['Cancel_status'].value_counts())"
   ]
  },
  {
   "cell_type": "markdown",
   "id": "541024a3",
   "metadata": {},
   "source": [
    "### 2.1.2 StockCode: Differentiating Products from Charges"
   ]
  },
  {
   "cell_type": "code",
   "execution_count": 28,
   "id": "c3ccaff1",
   "metadata": {},
   "outputs": [
    {
     "data": {
      "text/plain": [
       "3617"
      ]
     },
     "execution_count": 28,
     "metadata": {},
     "output_type": "execute_result"
    }
   ],
   "source": [
    "# Count the number of unique product stock codes\n",
    "data['StockCode'].nunique()"
   ]
  },
  {
   "cell_type": "code",
   "execution_count": 29,
   "id": "9fe2fdbe",
   "metadata": {},
   "outputs": [
    {
     "data": {
      "text/plain": [
       "StockCode\n",
       "85123A    2010\n",
       "22423     1782\n",
       "85099B    1433\n",
       "47566     1365\n",
       "84879     1344\n",
       "20725     1273\n",
       "22720     1186\n",
       "20727     1062\n",
       "22383     1046\n",
       "23203     1030\n",
       "Name: count, dtype: int64"
      ]
     },
     "execution_count": 29,
     "metadata": {},
     "output_type": "execute_result"
    }
   ],
   "source": [
    "# Display the top 10 most frequently purchased products\n",
    "data['StockCode'].value_counts().head(10)"
   ]
  },
  {
   "cell_type": "code",
   "execution_count": 30,
   "id": "4b3429dd",
   "metadata": {},
   "outputs": [
    {
     "data": {
      "text/plain": [
       "array(['85123A', '71053', '84406B', ..., '90214W', '90214Z', '84679'],\n",
       "      dtype=object)"
      ]
     },
     "execution_count": 30,
     "metadata": {},
     "output_type": "execute_result"
    }
   ],
   "source": [
    "# Examine the unique values in StockCode to identify patterns\n",
    "data['StockCode'].unique()"
   ]
  },
  {
   "cell_type": "markdown",
   "id": "8b383cb6",
   "metadata": {},
   "source": [
    "Some `StockCode` values contain letters. We will investigate if these follow a specific pattern."
   ]
  },
  {
   "cell_type": "code",
   "execution_count": 31,
   "id": "6491deb1",
   "metadata": {},
   "outputs": [
    {
     "data": {
      "text/plain": [
       "array(['A', nan, 'B', 'G', 'E', 'L', 'C', 'S', 'BL', 'N', 'POST', 'D',\n",
       "       'F', 'T', 'H', 'M', 'R', 'K', 'P', 'V', 'J', 'W', 'BANK CHARGES',\n",
       "       'U', 'Y', 'I', 'DOT', 'CRUK', 'O', 'Z'], dtype=object)"
      ]
     },
     "execution_count": 31,
     "metadata": {},
     "output_type": "execute_result"
    }
   ],
   "source": [
    "# Extract and display the unique letter codes found in StockCode\n",
    "data['StockCode'].str.extract('([a-zA-Z\\s]+)', expand=False).unique()"
   ]
  },
  {
   "cell_type": "markdown",
   "id": "93aa5080",
   "metadata": {},
   "source": [
    "Some codes consist only of letters. These may not be standard products."
   ]
  },
  {
   "cell_type": "code",
   "execution_count": 32,
   "id": "66ee753c",
   "metadata": {},
   "outputs": [
    {
     "data": {
      "text/plain": [
       "array(['POST', 'M', 'BANK CHARGES', 'D', 'DOT', 'CRUK'], dtype=object)"
      ]
     },
     "execution_count": 32,
     "metadata": {},
     "output_type": "execute_result"
    }
   ],
   "source": [
    "# Isolate records where the StockCode contains only letters (no numbers)\n",
    "anomal_stockcode_data = data[~data['StockCode'].str.contains('^\\d+', na=False)]\n",
    "anomal_stockcode_data['StockCode'].unique()"
   ]
  },
  {
   "cell_type": "markdown",
   "id": "8d5cdd2c",
   "metadata": {},
   "source": [
    "Let's examine the descriptions for these non-numeric stock codes."
   ]
  },
  {
   "cell_type": "code",
   "execution_count": 33,
   "id": "77c90cf9",
   "metadata": {},
   "outputs": [
    {
     "data": {
      "text/html": [
       "<div>\n",
       "<style scoped>\n",
       "    .dataframe tbody tr th:only-of-type {\n",
       "        vertical-align: middle;\n",
       "    }\n",
       "\n",
       "    .dataframe tbody tr th {\n",
       "        vertical-align: top;\n",
       "    }\n",
       "\n",
       "    .dataframe thead th {\n",
       "        text-align: right;\n",
       "    }\n",
       "</style>\n",
       "<table border=\"1\" class=\"dataframe\">\n",
       "  <thead>\n",
       "    <tr style=\"text-align: right;\">\n",
       "      <th></th>\n",
       "      <th>StockCode</th>\n",
       "      <th>Description</th>\n",
       "    </tr>\n",
       "  </thead>\n",
       "  <tbody>\n",
       "    <tr>\n",
       "      <th>0</th>\n",
       "      <td>85123A</td>\n",
       "      <td>WHITE HANGING HEART T-LIGHT HOLDER</td>\n",
       "    </tr>\n",
       "    <tr>\n",
       "      <th>1</th>\n",
       "      <td>71053</td>\n",
       "      <td>WHITE METAL LANTERN</td>\n",
       "    </tr>\n",
       "    <tr>\n",
       "      <th>2</th>\n",
       "      <td>84406B</td>\n",
       "      <td>CREAM CUPID HEARTS COAT HANGER</td>\n",
       "    </tr>\n",
       "    <tr>\n",
       "      <th>3</th>\n",
       "      <td>84029G</td>\n",
       "      <td>KNITTED UNION FLAG HOT WATER BOTTLE</td>\n",
       "    </tr>\n",
       "    <tr>\n",
       "      <th>4</th>\n",
       "      <td>84029E</td>\n",
       "      <td>RED WOOLLY HOTTIE WHITE HEART.</td>\n",
       "    </tr>\n",
       "    <tr>\n",
       "      <th>...</th>\n",
       "      <td>...</td>\n",
       "      <td>...</td>\n",
       "    </tr>\n",
       "    <tr>\n",
       "      <th>3838</th>\n",
       "      <td>90214U</td>\n",
       "      <td>LETTER \"U\" BLING KEY RING</td>\n",
       "    </tr>\n",
       "    <tr>\n",
       "      <th>3839</th>\n",
       "      <td>90214W</td>\n",
       "      <td>LETTER \"W\" BLING KEY RING</td>\n",
       "    </tr>\n",
       "    <tr>\n",
       "      <th>3840</th>\n",
       "      <td>90214Z</td>\n",
       "      <td>LETTER \"Z\" BLING KEY RING</td>\n",
       "    </tr>\n",
       "    <tr>\n",
       "      <th>3841</th>\n",
       "      <td>84679</td>\n",
       "      <td>CLASSICAL ROSE TABLE LAMP</td>\n",
       "    </tr>\n",
       "    <tr>\n",
       "      <th>3842</th>\n",
       "      <td>85123A</td>\n",
       "      <td>CREAM HANGING HEART T-LIGHT HOLDER</td>\n",
       "    </tr>\n",
       "  </tbody>\n",
       "</table>\n",
       "<p>3843 rows × 2 columns</p>\n",
       "</div>"
      ],
      "text/plain": [
       "     StockCode                          Description\n",
       "0       85123A   WHITE HANGING HEART T-LIGHT HOLDER\n",
       "1        71053                  WHITE METAL LANTERN\n",
       "2       84406B       CREAM CUPID HEARTS COAT HANGER\n",
       "3       84029G  KNITTED UNION FLAG HOT WATER BOTTLE\n",
       "4       84029E       RED WOOLLY HOTTIE WHITE HEART.\n",
       "...        ...                                  ...\n",
       "3838    90214U            LETTER \"U\" BLING KEY RING\n",
       "3839    90214W            LETTER \"W\" BLING KEY RING\n",
       "3840    90214Z            LETTER \"Z\" BLING KEY RING\n",
       "3841     84679            CLASSICAL ROSE TABLE LAMP\n",
       "3842    85123A   CREAM HANGING HEART T-LIGHT HOLDER\n",
       "\n",
       "[3843 rows x 2 columns]"
      ]
     },
     "execution_count": 33,
     "metadata": {},
     "output_type": "execute_result"
    }
   ],
   "source": [
    "# Display descriptions for standard, numeric-based stock codes\n",
    "data[['StockCode', 'Description']].drop_duplicates().reset_index(drop=True)"
   ]
  },
  {
   "cell_type": "code",
   "execution_count": 34,
   "id": "83e324a4",
   "metadata": {},
   "outputs": [
    {
     "data": {
      "text/html": [
       "<div>\n",
       "<style scoped>\n",
       "    .dataframe tbody tr th:only-of-type {\n",
       "        vertical-align: middle;\n",
       "    }\n",
       "\n",
       "    .dataframe tbody tr th {\n",
       "        vertical-align: top;\n",
       "    }\n",
       "\n",
       "    .dataframe thead th {\n",
       "        text-align: right;\n",
       "    }\n",
       "</style>\n",
       "<table border=\"1\" class=\"dataframe\">\n",
       "  <thead>\n",
       "    <tr style=\"text-align: right;\">\n",
       "      <th></th>\n",
       "      <th>StockCode</th>\n",
       "      <th>Description</th>\n",
       "    </tr>\n",
       "  </thead>\n",
       "  <tbody>\n",
       "    <tr>\n",
       "      <th>0</th>\n",
       "      <td>POST</td>\n",
       "      <td>POSTAGE</td>\n",
       "    </tr>\n",
       "    <tr>\n",
       "      <th>1</th>\n",
       "      <td>M</td>\n",
       "      <td>Manual</td>\n",
       "    </tr>\n",
       "    <tr>\n",
       "      <th>2</th>\n",
       "      <td>BANK CHARGES</td>\n",
       "      <td>Bank Charges</td>\n",
       "    </tr>\n",
       "    <tr>\n",
       "      <th>3</th>\n",
       "      <td>D</td>\n",
       "      <td>Discount</td>\n",
       "    </tr>\n",
       "    <tr>\n",
       "      <th>4</th>\n",
       "      <td>DOT</td>\n",
       "      <td>DOTCOM POSTAGE</td>\n",
       "    </tr>\n",
       "    <tr>\n",
       "      <th>5</th>\n",
       "      <td>CRUK</td>\n",
       "      <td>CRUK Commission</td>\n",
       "    </tr>\n",
       "  </tbody>\n",
       "</table>\n",
       "</div>"
      ],
      "text/plain": [
       "      StockCode      Description\n",
       "0          POST          POSTAGE\n",
       "1             M           Manual\n",
       "2  BANK CHARGES     Bank Charges\n",
       "3             D         Discount\n",
       "4           DOT   DOTCOM POSTAGE\n",
       "5          CRUK  CRUK Commission"
      ]
     },
     "execution_count": 34,
     "metadata": {},
     "output_type": "execute_result"
    }
   ],
   "source": [
    "# Display descriptions for the anomalous, non-numeric stock codes\n",
    "anomal_stockcode_data[['StockCode', 'Description']].drop_duplicates().reset_index(drop=True)"
   ]
  },
  {
   "cell_type": "markdown",
   "id": "475ae56d",
   "metadata": {},
   "source": [
    "`StockCodes` with only letters represent non-product charges like \"POSTAGE\", \"Discount\", or \"Bank Charges\". We will create a feature to distinguish these from actual product transactions."
   ]
  },
  {
   "cell_type": "code",
   "execution_count": 35,
   "id": "1593324e",
   "metadata": {},
   "outputs": [
    {
     "data": {
      "text/html": [
       "<div>\n",
       "<style scoped>\n",
       "    .dataframe tbody tr th:only-of-type {\n",
       "        vertical-align: middle;\n",
       "    }\n",
       "\n",
       "    .dataframe tbody tr th {\n",
       "        vertical-align: top;\n",
       "    }\n",
       "\n",
       "    .dataframe thead th {\n",
       "        text-align: right;\n",
       "    }\n",
       "</style>\n",
       "<table border=\"1\" class=\"dataframe\">\n",
       "  <thead>\n",
       "    <tr style=\"text-align: right;\">\n",
       "      <th></th>\n",
       "      <th>StockCode</th>\n",
       "      <th>StockCode_type</th>\n",
       "    </tr>\n",
       "  </thead>\n",
       "  <tbody>\n",
       "    <tr>\n",
       "      <th>0</th>\n",
       "      <td>85123A</td>\n",
       "      <td>Product</td>\n",
       "    </tr>\n",
       "    <tr>\n",
       "      <th>1</th>\n",
       "      <td>71053</td>\n",
       "      <td>Product</td>\n",
       "    </tr>\n",
       "    <tr>\n",
       "      <th>2</th>\n",
       "      <td>84406B</td>\n",
       "      <td>Product</td>\n",
       "    </tr>\n",
       "    <tr>\n",
       "      <th>3</th>\n",
       "      <td>84029G</td>\n",
       "      <td>Product</td>\n",
       "    </tr>\n",
       "    <tr>\n",
       "      <th>4</th>\n",
       "      <td>84029E</td>\n",
       "      <td>Product</td>\n",
       "    </tr>\n",
       "    <tr>\n",
       "      <th>5</th>\n",
       "      <td>22752</td>\n",
       "      <td>Product</td>\n",
       "    </tr>\n",
       "    <tr>\n",
       "      <th>6</th>\n",
       "      <td>21730</td>\n",
       "      <td>Product</td>\n",
       "    </tr>\n",
       "    <tr>\n",
       "      <th>7</th>\n",
       "      <td>22633</td>\n",
       "      <td>Product</td>\n",
       "    </tr>\n",
       "    <tr>\n",
       "      <th>8</th>\n",
       "      <td>22632</td>\n",
       "      <td>Product</td>\n",
       "    </tr>\n",
       "    <tr>\n",
       "      <th>9</th>\n",
       "      <td>84879</td>\n",
       "      <td>Product</td>\n",
       "    </tr>\n",
       "  </tbody>\n",
       "</table>\n",
       "</div>"
      ],
      "text/plain": [
       "  StockCode StockCode_type\n",
       "0    85123A        Product\n",
       "1     71053        Product\n",
       "2    84406B        Product\n",
       "3    84029G        Product\n",
       "4    84029E        Product\n",
       "5     22752        Product\n",
       "6     21730        Product\n",
       "7     22633        Product\n",
       "8     22632        Product\n",
       "9     84879        Product"
      ]
     },
     "execution_count": 35,
     "metadata": {},
     "output_type": "execute_result"
    }
   ],
   "source": [
    "# Create a new feature to categorize transactions as 'Product' or 'Charge'\n",
    "data['StockCode_type'] = np.where(data['StockCode'].isin(anomal_stockcode_data['StockCode']), 'Charge', 'Product')\n",
    "data[['StockCode', 'StockCode_type']].head(10)"
   ]
  },
  {
   "cell_type": "code",
   "execution_count": 36,
   "id": "9fe62c97",
   "metadata": {},
   "outputs": [
    {
     "data": {
      "text/html": [
       "<div>\n",
       "<style scoped>\n",
       "    .dataframe tbody tr th:only-of-type {\n",
       "        vertical-align: middle;\n",
       "    }\n",
       "\n",
       "    .dataframe tbody tr th {\n",
       "        vertical-align: top;\n",
       "    }\n",
       "\n",
       "    .dataframe thead th {\n",
       "        text-align: right;\n",
       "    }\n",
       "</style>\n",
       "<table border=\"1\" class=\"dataframe\">\n",
       "  <thead>\n",
       "    <tr style=\"text-align: right;\">\n",
       "      <th></th>\n",
       "      <th>count</th>\n",
       "    </tr>\n",
       "    <tr>\n",
       "      <th>StockCode_type</th>\n",
       "      <th></th>\n",
       "    </tr>\n",
       "  </thead>\n",
       "  <tbody>\n",
       "    <tr>\n",
       "      <th>Product</th>\n",
       "      <td>384720</td>\n",
       "    </tr>\n",
       "    <tr>\n",
       "      <th>Charge</th>\n",
       "      <td>485</td>\n",
       "    </tr>\n",
       "  </tbody>\n",
       "</table>\n",
       "</div>"
      ],
      "text/plain": [
       "                 count\n",
       "StockCode_type        \n",
       "Product         384720\n",
       "Charge             485"
      ]
     },
     "execution_count": 36,
     "metadata": {},
     "output_type": "execute_result"
    }
   ],
   "source": [
    "# Count the occurrences of each StockCode type\n",
    "pd.DataFrame(data['StockCode_type'].value_counts())"
   ]
  },
  {
   "cell_type": "markdown",
   "id": "196dca7a",
   "metadata": {},
   "source": [
    "### 2.1.3 Description: Extracting Product Categories"
   ]
  },
  {
   "cell_type": "code",
   "execution_count": 37,
   "id": "f0a81b86",
   "metadata": {},
   "outputs": [
    {
     "data": {
      "text/plain": [
       "0     WHITE HANGING HEART T-LIGHT HOLDER\n",
       "1                    WHITE METAL LANTERN\n",
       "2         CREAM CUPID HEARTS COAT HANGER\n",
       "3    KNITTED UNION FLAG HOT WATER BOTTLE\n",
       "4         RED WOOLLY HOTTIE WHITE HEART.\n",
       "5           SET 7 BABUSHKA NESTING BOXES\n",
       "6      GLASS STAR FROSTED T-LIGHT HOLDER\n",
       "7                 HAND WARMER UNION JACK\n",
       "8              HAND WARMER RED POLKA DOT\n",
       "9          ASSORTED COLOUR BIRD ORNAMENT\n",
       "Name: Description, dtype: object"
      ]
     },
     "execution_count": 37,
     "metadata": {},
     "output_type": "execute_result"
    }
   ],
   "source": [
    "# Display the first 10 product descriptions\n",
    "data['Description'].head(10)"
   ]
  },
  {
   "cell_type": "markdown",
   "id": "f6cc3151",
   "metadata": {},
   "source": [
    "Some descriptions contain mixed-case letters. For consistency, we will standardize them."
   ]
  },
  {
   "cell_type": "code",
   "execution_count": 38,
   "id": "b828ff9e",
   "metadata": {},
   "outputs": [
    {
     "data": {
      "text/plain": [
       "['BAG 500g SWIRLY MARBLES',\n",
       " 'POLYESTER FILLER PAD 45x45cm',\n",
       " 'POLYESTER FILLER PAD 45x30cm',\n",
       " 'POLYESTER FILLER PAD 40x40cm',\n",
       " 'FRENCH BLUE METAL DOOR SIGN No',\n",
       " 'BAG 250g SWIRLY MARBLES',\n",
       " 'BAG 125g SWIRLY MARBLES',\n",
       " '3 TRADITIONAl BISCUIT CUTTERS  SET',\n",
       " 'NUMBER TILE COTTAGE GARDEN No',\n",
       " 'FOLK ART GREETING CARD,pack/12',\n",
       " 'POLYESTER FILLER PAD 65CMx65CM',\n",
       " 'NUMBER TILE VINTAGE FONT No ',\n",
       " 'POLYESTER FILLER PAD 30CMx30CM',\n",
       " 'POLYESTER FILLER PAD 60x40cm',\n",
       " 'FLOWERS HANDBAG blue and orange',\n",
       " 'Next Day Carriage',\n",
       " 'THE KING GIFT BAG 25x24x12cm',\n",
       " 'High Resolution Image']"
      ]
     },
     "execution_count": 38,
     "metadata": {},
     "output_type": "execute_result"
    }
   ],
   "source": [
    "# Check for descriptions with mixed uppercase and lowercase letters\n",
    "case_mix = [desc for desc in data[data['StockCode_type'] == 'Product']['Description'].unique() if any(char.islower() for char in desc)]\n",
    "case_mix"
   ]
  },
  {
   "cell_type": "markdown",
   "id": "3b8843d1",
   "metadata": {},
   "source": [
    "The descriptions \"Next Day Carriage\" and \"High Resolution Image\" appear to be service charges rather than products. We will re-categorize them."
   ]
  },
  {
   "cell_type": "code",
   "execution_count": 39,
   "id": "12c7f97f",
   "metadata": {},
   "outputs": [],
   "source": [
    "# Re-assign 'Next Day Carriage' and 'High Resolution Image' to the 'Charge' category\n",
    "data.loc[data['Description']== 'Next Day Carriage', 'StockCode_type'] = 'Charge'\n",
    "data.loc[data['Description']== 'High Resolution Image', 'StockCode_type'] = 'Charge'"
   ]
  },
  {
   "cell_type": "markdown",
   "id": "df941a74",
   "metadata": {},
   "source": [
    "Now, we will convert all product descriptions to lowercase for consistent text analysis."
   ]
  },
  {
   "cell_type": "code",
   "execution_count": 40,
   "id": "3ee8e0c0",
   "metadata": {},
   "outputs": [
    {
     "data": {
      "text/plain": [
       "0     white hanging heart t-light holder\n",
       "1                    white metal lantern\n",
       "2         cream cupid hearts coat hanger\n",
       "3    knitted union flag hot water bottle\n",
       "4         red woolly hottie white heart.\n",
       "5           set 7 babushka nesting boxes\n",
       "6      glass star frosted t-light holder\n",
       "7                 hand warmer union jack\n",
       "8              hand warmer red polka dot\n",
       "9          assorted colour bird ornament\n",
       "Name: Description, dtype: object"
      ]
     },
     "execution_count": 40,
     "metadata": {},
     "output_type": "execute_result"
    }
   ],
   "source": [
    "# Convert product descriptions to lowercase\n",
    "data.loc[data['StockCode_type'] == 'Product', 'Description'] = data['Description'].str.lower()\n",
    "data['Description'].head(10)"
   ]
  },
  {
   "cell_type": "markdown",
   "id": "7fd6de1d",
   "metadata": {},
   "source": [
    "For customer segmentation based on product purchases, we will filter out non-product charges."
   ]
  },
  {
   "cell_type": "code",
   "execution_count": 41,
   "id": "ad75d99d",
   "metadata": {},
   "outputs": [],
   "source": [
    "# Keep only product-related transactions\n",
    "data = data[data['StockCode_type'] == 'Product']\n",
    "\n",
    "# Drop the temporary StockCode_type column\n",
    "data = data.drop(columns=['StockCode_type'])"
   ]
  },
  {
   "cell_type": "markdown",
   "id": "6c244a76",
   "metadata": {},
   "source": [
    "To understand purchasing patterns, we can extract keywords from product descriptions."
   ]
  },
  {
   "cell_type": "code",
   "execution_count": 42,
   "id": "340262d0",
   "metadata": {},
   "outputs": [],
   "source": [
    "# Define a function to clean text by removing punctuation and extra spaces\n",
    "def clean_text(t):\n",
    "    t = re.sub(r\"[^a-z\\s]\", \" \", t)\n",
    "    t = re.sub(r\"\\s+\", \" \", t).strip()\n",
    "    return t\n",
    "\n",
    "desc_clean = data['Description'].apply(clean_text)"
   ]
  },
  {
   "cell_type": "code",
   "execution_count": 43,
   "id": "da40743d",
   "metadata": {},
   "outputs": [],
   "source": [
    "# Use CountVectorizer to extract frequent keywords and two-word phrases\n",
    "vec = CountVectorizer(\n",
    "    ngram_range=(1, 2),\n",
    "    stop_words=\"english\",\n",
    "    min_df=5,\n",
    "    token_pattern=r\"(?u)\\b[a-z]{2,}\\b\" \n",
    ")\n",
    "X = vec.fit_transform(desc_clean)"
   ]
  },
  {
   "cell_type": "code",
   "execution_count": 44,
   "id": "2b8eceab",
   "metadata": {},
   "outputs": [
    {
     "data": {
      "text/html": [
       "<div>\n",
       "<style scoped>\n",
       "    .dataframe tbody tr th:only-of-type {\n",
       "        vertical-align: middle;\n",
       "    }\n",
       "\n",
       "    .dataframe tbody tr th {\n",
       "        vertical-align: top;\n",
       "    }\n",
       "\n",
       "    .dataframe thead th {\n",
       "        text-align: right;\n",
       "    }\n",
       "</style>\n",
       "<table border=\"1\" class=\"dataframe\">\n",
       "  <thead>\n",
       "    <tr style=\"text-align: right;\">\n",
       "      <th></th>\n",
       "      <th>term</th>\n",
       "      <th>count</th>\n",
       "    </tr>\n",
       "  </thead>\n",
       "  <tbody>\n",
       "    <tr>\n",
       "      <th>0</th>\n",
       "      <td>set</td>\n",
       "      <td>45869</td>\n",
       "    </tr>\n",
       "    <tr>\n",
       "      <th>1</th>\n",
       "      <td>bag</td>\n",
       "      <td>35968</td>\n",
       "    </tr>\n",
       "    <tr>\n",
       "      <th>2</th>\n",
       "      <td>red</td>\n",
       "      <td>31379</td>\n",
       "    </tr>\n",
       "    <tr>\n",
       "      <th>3</th>\n",
       "      <td>heart</td>\n",
       "      <td>28616</td>\n",
       "    </tr>\n",
       "    <tr>\n",
       "      <th>4</th>\n",
       "      <td>retrospot</td>\n",
       "      <td>25760</td>\n",
       "    </tr>\n",
       "    <tr>\n",
       "      <th>5</th>\n",
       "      <td>vintage</td>\n",
       "      <td>24884</td>\n",
       "    </tr>\n",
       "    <tr>\n",
       "      <th>6</th>\n",
       "      <td>design</td>\n",
       "      <td>22968</td>\n",
       "    </tr>\n",
       "    <tr>\n",
       "      <th>7</th>\n",
       "      <td>pink</td>\n",
       "      <td>19845</td>\n",
       "    </tr>\n",
       "    <tr>\n",
       "      <th>8</th>\n",
       "      <td>christmas</td>\n",
       "      <td>18280</td>\n",
       "    </tr>\n",
       "    <tr>\n",
       "      <th>9</th>\n",
       "      <td>box</td>\n",
       "      <td>17552</td>\n",
       "    </tr>\n",
       "    <tr>\n",
       "      <th>10</th>\n",
       "      <td>white</td>\n",
       "      <td>15755</td>\n",
       "    </tr>\n",
       "    <tr>\n",
       "      <th>11</th>\n",
       "      <td>cake</td>\n",
       "      <td>15655</td>\n",
       "    </tr>\n",
       "    <tr>\n",
       "      <th>12</th>\n",
       "      <td>metal</td>\n",
       "      <td>15541</td>\n",
       "    </tr>\n",
       "    <tr>\n",
       "      <th>13</th>\n",
       "      <td>lunch</td>\n",
       "      <td>14447</td>\n",
       "    </tr>\n",
       "    <tr>\n",
       "      <th>14</th>\n",
       "      <td>jumbo</td>\n",
       "      <td>14353</td>\n",
       "    </tr>\n",
       "    <tr>\n",
       "      <th>15</th>\n",
       "      <td>red retrospot</td>\n",
       "      <td>14157</td>\n",
       "    </tr>\n",
       "    <tr>\n",
       "      <th>16</th>\n",
       "      <td>blue</td>\n",
       "      <td>13933</td>\n",
       "    </tr>\n",
       "    <tr>\n",
       "      <th>17</th>\n",
       "      <td>light</td>\n",
       "      <td>13309</td>\n",
       "    </tr>\n",
       "    <tr>\n",
       "      <th>18</th>\n",
       "      <td>sign</td>\n",
       "      <td>12560</td>\n",
       "    </tr>\n",
       "    <tr>\n",
       "      <th>19</th>\n",
       "      <td>hanging</td>\n",
       "      <td>12301</td>\n",
       "    </tr>\n",
       "    <tr>\n",
       "      <th>20</th>\n",
       "      <td>holder</td>\n",
       "      <td>12133</td>\n",
       "    </tr>\n",
       "    <tr>\n",
       "      <th>21</th>\n",
       "      <td>pack</td>\n",
       "      <td>11521</td>\n",
       "    </tr>\n",
       "    <tr>\n",
       "      <th>22</th>\n",
       "      <td>jumbo bag</td>\n",
       "      <td>11503</td>\n",
       "    </tr>\n",
       "    <tr>\n",
       "      <th>23</th>\n",
       "      <td>lunch bag</td>\n",
       "      <td>11161</td>\n",
       "    </tr>\n",
       "    <tr>\n",
       "      <th>24</th>\n",
       "      <td>paper</td>\n",
       "      <td>10320</td>\n",
       "    </tr>\n",
       "    <tr>\n",
       "      <th>25</th>\n",
       "      <td>small</td>\n",
       "      <td>10023</td>\n",
       "    </tr>\n",
       "    <tr>\n",
       "      <th>26</th>\n",
       "      <td>wooden</td>\n",
       "      <td>9819</td>\n",
       "    </tr>\n",
       "    <tr>\n",
       "      <th>27</th>\n",
       "      <td>card</td>\n",
       "      <td>9797</td>\n",
       "    </tr>\n",
       "    <tr>\n",
       "      <th>28</th>\n",
       "      <td>metal sign</td>\n",
       "      <td>9549</td>\n",
       "    </tr>\n",
       "    <tr>\n",
       "      <th>29</th>\n",
       "      <td>tea</td>\n",
       "      <td>8963</td>\n",
       "    </tr>\n",
       "    <tr>\n",
       "      <th>30</th>\n",
       "      <td>cases</td>\n",
       "      <td>8932</td>\n",
       "    </tr>\n",
       "    <tr>\n",
       "      <th>31</th>\n",
       "      <td>glass</td>\n",
       "      <td>8722</td>\n",
       "    </tr>\n",
       "    <tr>\n",
       "      <th>32</th>\n",
       "      <td>polkadot</td>\n",
       "      <td>8525</td>\n",
       "    </tr>\n",
       "    <tr>\n",
       "      <th>33</th>\n",
       "      <td>bottle</td>\n",
       "      <td>8462</td>\n",
       "    </tr>\n",
       "    <tr>\n",
       "      <th>34</th>\n",
       "      <td>light holder</td>\n",
       "      <td>8375</td>\n",
       "    </tr>\n",
       "    <tr>\n",
       "      <th>35</th>\n",
       "      <td>spaceboy</td>\n",
       "      <td>8335</td>\n",
       "    </tr>\n",
       "    <tr>\n",
       "      <th>36</th>\n",
       "      <td>hot</td>\n",
       "      <td>7941</td>\n",
       "    </tr>\n",
       "    <tr>\n",
       "      <th>37</th>\n",
       "      <td>decoration</td>\n",
       "      <td>7910</td>\n",
       "    </tr>\n",
       "    <tr>\n",
       "      <th>38</th>\n",
       "      <td>home</td>\n",
       "      <td>7760</td>\n",
       "    </tr>\n",
       "    <tr>\n",
       "      <th>39</th>\n",
       "      <td>pantry</td>\n",
       "      <td>7440</td>\n",
       "    </tr>\n",
       "    <tr>\n",
       "      <th>40</th>\n",
       "      <td>water</td>\n",
       "      <td>7426</td>\n",
       "    </tr>\n",
       "    <tr>\n",
       "      <th>41</th>\n",
       "      <td>large</td>\n",
       "      <td>7365</td>\n",
       "    </tr>\n",
       "    <tr>\n",
       "      <th>42</th>\n",
       "      <td>tin</td>\n",
       "      <td>7354</td>\n",
       "    </tr>\n",
       "    <tr>\n",
       "      <th>43</th>\n",
       "      <td>hot water</td>\n",
       "      <td>7096</td>\n",
       "    </tr>\n",
       "    <tr>\n",
       "      <th>44</th>\n",
       "      <td>water bottle</td>\n",
       "      <td>7096</td>\n",
       "    </tr>\n",
       "    <tr>\n",
       "      <th>45</th>\n",
       "      <td>regency</td>\n",
       "      <td>6846</td>\n",
       "    </tr>\n",
       "    <tr>\n",
       "      <th>46</th>\n",
       "      <td>ceramic</td>\n",
       "      <td>6777</td>\n",
       "    </tr>\n",
       "    <tr>\n",
       "      <th>47</th>\n",
       "      <td>doormat</td>\n",
       "      <td>6684</td>\n",
       "    </tr>\n",
       "    <tr>\n",
       "      <th>48</th>\n",
       "      <td>cake cases</td>\n",
       "      <td>6625</td>\n",
       "    </tr>\n",
       "    <tr>\n",
       "      <th>49</th>\n",
       "      <td>ivory</td>\n",
       "      <td>6583</td>\n",
       "    </tr>\n",
       "  </tbody>\n",
       "</table>\n",
       "</div>"
      ],
      "text/plain": [
       "             term  count\n",
       "0             set  45869\n",
       "1             bag  35968\n",
       "2             red  31379\n",
       "3           heart  28616\n",
       "4       retrospot  25760\n",
       "5         vintage  24884\n",
       "6          design  22968\n",
       "7            pink  19845\n",
       "8       christmas  18280\n",
       "9             box  17552\n",
       "10          white  15755\n",
       "11           cake  15655\n",
       "12          metal  15541\n",
       "13          lunch  14447\n",
       "14          jumbo  14353\n",
       "15  red retrospot  14157\n",
       "16           blue  13933\n",
       "17          light  13309\n",
       "18           sign  12560\n",
       "19        hanging  12301\n",
       "20         holder  12133\n",
       "21           pack  11521\n",
       "22      jumbo bag  11503\n",
       "23      lunch bag  11161\n",
       "24          paper  10320\n",
       "25          small  10023\n",
       "26         wooden   9819\n",
       "27           card   9797\n",
       "28     metal sign   9549\n",
       "29            tea   8963\n",
       "30          cases   8932\n",
       "31          glass   8722\n",
       "32       polkadot   8525\n",
       "33         bottle   8462\n",
       "34   light holder   8375\n",
       "35       spaceboy   8335\n",
       "36            hot   7941\n",
       "37     decoration   7910\n",
       "38           home   7760\n",
       "39         pantry   7440\n",
       "40          water   7426\n",
       "41          large   7365\n",
       "42            tin   7354\n",
       "43      hot water   7096\n",
       "44   water bottle   7096\n",
       "45        regency   6846\n",
       "46        ceramic   6777\n",
       "47        doormat   6684\n",
       "48     cake cases   6625\n",
       "49          ivory   6583"
      ]
     },
     "execution_count": 44,
     "metadata": {},
     "output_type": "execute_result"
    }
   ],
   "source": [
    "# Get top terms/phrases by frequency\n",
    "term_counts = np.asarray(X.sum(axis=0)).ravel()\n",
    "vocab = np.array(vec.get_feature_names_out())\n",
    "order = term_counts.argsort()[::-1]\n",
    "top_n = 50\n",
    "\n",
    "# Create keyword features based on top terms\n",
    "top_terms = pd.DataFrame({\n",
    "    \"term\": vocab[order][:top_n],\n",
    "    \"count\": term_counts[order][:top_n]\n",
    "})\n",
    "\n",
    "# Show the keyword frequency table\n",
    "top_terms"
   ]
  },
  {
   "cell_type": "code",
   "execution_count": 45,
   "id": "8205ae10",
   "metadata": {},
   "outputs": [
    {
     "data": {
      "image/png": "[encoded data removed]",
      "text/plain": [
       "<Figure size 1000x500 with 1 Axes>"
      ]
     },
     "metadata": {},
     "output_type": "display_data"
    }
   ],
   "source": [
    "# Generate a word cloud from the most frequent terms\n",
    "freq_dict = dict(zip(top_terms['term'], top_terms['count']))\n",
    "wordcloud = WordCloud(width=800, height=400, background_color='white').generate_from_frequencies(freq_dict)\n",
    "plt.figure(figsize=(10, 5))\n",
    "plt.imshow(wordcloud, interpolation='bilinear')\n",
    "plt.axis('off')\n",
    "plt.show()"
   ]
  },
  {
   "cell_type": "markdown",
   "id": "d6ad5f9a",
   "metadata": {},
   "source": [
    "Based on these keywords, we can create high-level product categories to group similar items. This will help us segment customers based on the types of products they prefer.\n",
    "\n",
    "**Inferred Product Categories**:\n",
    "\n",
    "* **Gift & Seasonal**: Dominated by terms like \"heart,\" \"christmas,\" \"vintage,\" and \"retrospot.\"\n",
    "* **Bags & Accessories**: Key terms are \"bag,\" \"lunch,\" and \"jumbo.\"\n",
    "* **Kitchenware**: Includes \"cake,\" \"set,\" \"cup,\" \"mug,\" and \"plate.\"\n",
    "* **Home Decor**: Characterized by \"box,\" \"sign,\" \"design,\" \"light,\" \"holder,\" and \"decoration.\"\n",
    "* **Household Items**: Contains general terms like \"metal,\" \"tin,\" \"bottle,\" and \"pantry.\""
   ]
  },
  {
   "cell_type": "code",
   "execution_count": 46,
   "id": "b902587e",
   "metadata": {},
   "outputs": [],
   "source": [
    "# Define keywords for each product category\n",
    "categories = {\n",
    "    \"Gift_Seasonal\": [\"christmas\", \"heart\", \"retrospot\", \"vintage\"],\n",
    "    \"Bags_Accessories\": [\"bag\", \"lunch\", \"jumbo\"],\n",
    "    \"Kitchenware\": [\"cake\", \"set\", \"cup\", \"mug\", \"plate\"],\n",
    "    \"Home_Decor\": [\"box\", \"sign\", \"design\", \"light\", \"holder\", \"decoration\"],\n",
    "    \"Household\": [\"metal\", \"tin\", \"bottle\", \"pantry\"]\n",
    "}"
   ]
  },
  {
   "cell_type": "code",
   "execution_count": 47,
   "id": "8a7d483a",
   "metadata": {},
   "outputs": [],
   "source": [
    "# Clean the descriptions\n",
    "desc_clean = data['Description'].apply(clean_text)"
   ]
  },
  {
   "cell_type": "code",
   "execution_count": 48,
   "id": "c3e5849c",
   "metadata": {},
   "outputs": [],
   "source": [
    "# Create binary features indicating if a product belongs to a category\n",
    "for cat, keywords in categories.items():\n",
    "    data[cat] = data[\"Description\"].apply(lambda x: int(any(k in x for k in keywords)))"
   ]
  },
  {
   "cell_type": "code",
   "execution_count": 49,
   "id": "a10fc5f6",
   "metadata": {},
   "outputs": [
    {
     "data": {
      "text/html": [
       "<div>\n",
       "<style scoped>\n",
       "    .dataframe tbody tr th:only-of-type {\n",
       "        vertical-align: middle;\n",
       "    }\n",
       "\n",
       "    .dataframe tbody tr th {\n",
       "        vertical-align: top;\n",
       "    }\n",
       "\n",
       "    .dataframe thead th {\n",
       "        text-align: right;\n",
       "    }\n",
       "</style>\n",
       "<table border=\"1\" class=\"dataframe\">\n",
       "  <thead>\n",
       "    <tr style=\"text-align: right;\">\n",
       "      <th></th>\n",
       "      <th>InvoiceNo</th>\n",
       "      <th>StockCode</th>\n",
       "      <th>Description</th>\n",
       "      <th>Quantity</th>\n",
       "      <th>InvoiceDate</th>\n",
       "      <th>UnitPrice</th>\n",
       "      <th>CustomerID</th>\n",
       "      <th>Country</th>\n",
       "      <th>Cancel_status</th>\n",
       "      <th>Gift_Seasonal</th>\n",
       "      <th>Bags_Accessories</th>\n",
       "      <th>Kitchenware</th>\n",
       "      <th>Home_Decor</th>\n",
       "      <th>Household</th>\n",
       "    </tr>\n",
       "  </thead>\n",
       "  <tbody>\n",
       "    <tr>\n",
       "      <th>0</th>\n",
       "      <td>536365</td>\n",
       "      <td>85123A</td>\n",
       "      <td>white hanging heart t-light holder</td>\n",
       "      <td>6</td>\n",
       "      <td>2010-12-01 08:26:00</td>\n",
       "      <td>2.55</td>\n",
       "      <td>17850</td>\n",
       "      <td>United Kingdom</td>\n",
       "      <td>Completed</td>\n",
       "      <td>1</td>\n",
       "      <td>0</td>\n",
       "      <td>0</td>\n",
       "      <td>1</td>\n",
       "      <td>0</td>\n",
       "    </tr>\n",
       "    <tr>\n",
       "      <th>1</th>\n",
       "      <td>536365</td>\n",
       "      <td>71053</td>\n",
       "      <td>white metal lantern</td>\n",
       "      <td>6</td>\n",
       "      <td>2010-12-01 08:26:00</td>\n",
       "      <td>3.39</td>\n",
       "      <td>17850</td>\n",
       "      <td>United Kingdom</td>\n",
       "      <td>Completed</td>\n",
       "      <td>0</td>\n",
       "      <td>0</td>\n",
       "      <td>0</td>\n",
       "      <td>0</td>\n",
       "      <td>1</td>\n",
       "    </tr>\n",
       "    <tr>\n",
       "      <th>2</th>\n",
       "      <td>536365</td>\n",
       "      <td>84406B</td>\n",
       "      <td>cream cupid hearts coat hanger</td>\n",
       "      <td>8</td>\n",
       "      <td>2010-12-01 08:26:00</td>\n",
       "      <td>2.75</td>\n",
       "      <td>17850</td>\n",
       "      <td>United Kingdom</td>\n",
       "      <td>Completed</td>\n",
       "      <td>1</td>\n",
       "      <td>0</td>\n",
       "      <td>1</td>\n",
       "      <td>0</td>\n",
       "      <td>0</td>\n",
       "    </tr>\n",
       "    <tr>\n",
       "      <th>3</th>\n",
       "      <td>536365</td>\n",
       "      <td>84029G</td>\n",
       "      <td>knitted union flag hot water bottle</td>\n",
       "      <td>6</td>\n",
       "      <td>2010-12-01 08:26:00</td>\n",
       "      <td>3.39</td>\n",
       "      <td>17850</td>\n",
       "      <td>United Kingdom</td>\n",
       "      <td>Completed</td>\n",
       "      <td>0</td>\n",
       "      <td>0</td>\n",
       "      <td>0</td>\n",
       "      <td>0</td>\n",
       "      <td>1</td>\n",
       "    </tr>\n",
       "    <tr>\n",
       "      <th>4</th>\n",
       "      <td>536365</td>\n",
       "      <td>84029E</td>\n",
       "      <td>red woolly hottie white heart.</td>\n",
       "      <td>6</td>\n",
       "      <td>2010-12-01 08:26:00</td>\n",
       "      <td>3.39</td>\n",
       "      <td>17850</td>\n",
       "      <td>United Kingdom</td>\n",
       "      <td>Completed</td>\n",
       "      <td>1</td>\n",
       "      <td>0</td>\n",
       "      <td>0</td>\n",
       "      <td>0</td>\n",
       "      <td>0</td>\n",
       "    </tr>\n",
       "  </tbody>\n",
       "</table>\n",
       "</div>"
      ],
      "text/plain": [
       "  InvoiceNo StockCode                          Description  Quantity  \\\n",
       "0    536365    85123A   white hanging heart t-light holder         6   \n",
       "1    536365     71053                  white metal lantern         6   \n",
       "2    536365    84406B       cream cupid hearts coat hanger         8   \n",
       "3    536365    84029G  knitted union flag hot water bottle         6   \n",
       "4    536365    84029E       red woolly hottie white heart.         6   \n",
       "\n",
       "          InvoiceDate  UnitPrice CustomerID         Country Cancel_status  \\\n",
       "0 2010-12-01 08:26:00       2.55      17850  United Kingdom     Completed   \n",
       "1 2010-12-01 08:26:00       3.39      17850  United Kingdom     Completed   \n",
       "2 2010-12-01 08:26:00       2.75      17850  United Kingdom     Completed   \n",
       "3 2010-12-01 08:26:00       3.39      17850  United Kingdom     Completed   \n",
       "4 2010-12-01 08:26:00       3.39      17850  United Kingdom     Completed   \n",
       "\n",
       "   Gift_Seasonal  Bags_Accessories  Kitchenware  Home_Decor  Household  \n",
       "0              1                 0            0           1          0  \n",
       "1              0                 0            0           0          1  \n",
       "2              1                 0            1           0          0  \n",
       "3              0                 0            0           0          1  \n",
       "4              1                 0            0           0          0  "
      ]
     },
     "execution_count": 49,
     "metadata": {},
     "output_type": "execute_result"
    }
   ],
   "source": [
    "data.head()"
   ]
  },
  {
   "cell_type": "markdown",
   "id": "13d56ef2",
   "metadata": {},
   "source": [
    "### 2.1.4 Customer and Geographic Features"
   ]
  },
  {
   "cell_type": "code",
   "execution_count": 50,
   "id": "318da978",
   "metadata": {},
   "outputs": [
    {
     "data": {
      "text/plain": [
       "4295"
      ]
     },
     "execution_count": 50,
     "metadata": {},
     "output_type": "execute_result"
    }
   ],
   "source": [
    "# Check the number of unique customers after cleaning\n",
    "data['CustomerID'].nunique()"
   ]
  },
  {
   "cell_type": "code",
   "execution_count": 51,
   "id": "bbc8655e",
   "metadata": {},
   "outputs": [
    {
     "data": {
      "text/html": [
       "<div>\n",
       "<style scoped>\n",
       "    .dataframe tbody tr th:only-of-type {\n",
       "        vertical-align: middle;\n",
       "    }\n",
       "\n",
       "    .dataframe tbody tr th {\n",
       "        vertical-align: top;\n",
       "    }\n",
       "\n",
       "    .dataframe thead th {\n",
       "        text-align: right;\n",
       "    }\n",
       "</style>\n",
       "<table border=\"1\" class=\"dataframe\">\n",
       "  <thead>\n",
       "    <tr style=\"text-align: right;\">\n",
       "      <th></th>\n",
       "      <th>proportion</th>\n",
       "    </tr>\n",
       "    <tr>\n",
       "      <th>CustomerID</th>\n",
       "      <th></th>\n",
       "    </tr>\n",
       "  </thead>\n",
       "  <tbody>\n",
       "    <tr>\n",
       "      <th>17841</th>\n",
       "      <td>1.997717</td>\n",
       "    </tr>\n",
       "    <tr>\n",
       "      <th>14911</th>\n",
       "      <td>1.426792</td>\n",
       "    </tr>\n",
       "    <tr>\n",
       "      <th>14096</th>\n",
       "      <td>1.313179</td>\n",
       "    </tr>\n",
       "    <tr>\n",
       "      <th>12748</th>\n",
       "      <td>1.125471</td>\n",
       "    </tr>\n",
       "    <tr>\n",
       "      <th>14606</th>\n",
       "      <td>0.705337</td>\n",
       "    </tr>\n",
       "    <tr>\n",
       "      <th>15311</th>\n",
       "      <td>0.584704</td>\n",
       "    </tr>\n",
       "    <tr>\n",
       "      <th>13089</th>\n",
       "      <td>0.468491</td>\n",
       "    </tr>\n",
       "    <tr>\n",
       "      <th>13263</th>\n",
       "      <td>0.429494</td>\n",
       "    </tr>\n",
       "    <tr>\n",
       "      <th>14298</th>\n",
       "      <td>0.395436</td>\n",
       "    </tr>\n",
       "    <tr>\n",
       "      <th>15039</th>\n",
       "      <td>0.383736</td>\n",
       "    </tr>\n",
       "  </tbody>\n",
       "</table>\n",
       "</div>"
      ],
      "text/plain": [
       "            proportion\n",
       "CustomerID            \n",
       "17841         1.997717\n",
       "14911         1.426792\n",
       "14096         1.313179\n",
       "12748         1.125471\n",
       "14606         0.705337\n",
       "15311         0.584704\n",
       "13089         0.468491\n",
       "13263         0.429494\n",
       "14298         0.395436\n",
       "15039         0.383736"
      ]
     },
     "execution_count": 51,
     "metadata": {},
     "output_type": "execute_result"
    }
   ],
   "source": [
    "# Show the top 10 customers by number of transactions\n",
    "pd.DataFrame(data['CustomerID'].value_counts(normalize=True).head(10) * 100)"
   ]
  },
  {
   "cell_type": "code",
   "execution_count": 52,
   "id": "6bffa4a3",
   "metadata": {},
   "outputs": [
    {
     "data": {
      "text/html": [
       "<div>\n",
       "<style scoped>\n",
       "    .dataframe tbody tr th:only-of-type {\n",
       "        vertical-align: middle;\n",
       "    }\n",
       "\n",
       "    .dataframe tbody tr th {\n",
       "        vertical-align: top;\n",
       "    }\n",
       "\n",
       "    .dataframe thead th {\n",
       "        text-align: right;\n",
       "    }\n",
       "</style>\n",
       "<table border=\"1\" class=\"dataframe\">\n",
       "  <thead>\n",
       "    <tr style=\"text-align: right;\">\n",
       "      <th></th>\n",
       "      <th>Quantity</th>\n",
       "    </tr>\n",
       "    <tr>\n",
       "      <th>CustomerID</th>\n",
       "      <th></th>\n",
       "    </tr>\n",
       "  </thead>\n",
       "  <tbody>\n",
       "    <tr>\n",
       "      <th>14911</th>\n",
       "      <td>64671</td>\n",
       "    </tr>\n",
       "    <tr>\n",
       "      <th>14646</th>\n",
       "      <td>57646</td>\n",
       "    </tr>\n",
       "    <tr>\n",
       "      <th>14298</th>\n",
       "      <td>41889</td>\n",
       "    </tr>\n",
       "    <tr>\n",
       "      <th>13089</th>\n",
       "      <td>28477</td>\n",
       "    </tr>\n",
       "    <tr>\n",
       "      <th>17511</th>\n",
       "      <td>27564</td>\n",
       "    </tr>\n",
       "    <tr>\n",
       "      <th>14156</th>\n",
       "      <td>23927</td>\n",
       "    </tr>\n",
       "    <tr>\n",
       "      <th>17841</th>\n",
       "      <td>19975</td>\n",
       "    </tr>\n",
       "    <tr>\n",
       "      <th>12415</th>\n",
       "      <td>19874</td>\n",
       "    </tr>\n",
       "    <tr>\n",
       "      <th>15311</th>\n",
       "      <td>19696</td>\n",
       "    </tr>\n",
       "    <tr>\n",
       "      <th>12748</th>\n",
       "      <td>19532</td>\n",
       "    </tr>\n",
       "  </tbody>\n",
       "</table>\n",
       "</div>"
      ],
      "text/plain": [
       "            Quantity\n",
       "CustomerID          \n",
       "14911          64671\n",
       "14646          57646\n",
       "14298          41889\n",
       "13089          28477\n",
       "17511          27564\n",
       "14156          23927\n",
       "17841          19975\n",
       "12415          19874\n",
       "15311          19696\n",
       "12748          19532"
      ]
     },
     "execution_count": 52,
     "metadata": {},
     "output_type": "execute_result"
    }
   ],
   "source": [
    "# Show the top 10 customers by total quantity purchased\n",
    "pd.DataFrame(data.groupby('CustomerID')['Quantity'].sum().sort_values(ascending=False).head(10))"
   ]
  },
  {
   "cell_type": "code",
   "execution_count": 53,
   "id": "caa67ec6",
   "metadata": {},
   "outputs": [
    {
     "data": {
      "text/plain": [
       "37"
      ]
     },
     "execution_count": 53,
     "metadata": {},
     "output_type": "execute_result"
    }
   ],
   "source": [
    "# Check the number of unique countries\n",
    "data['Country'].nunique()"
   ]
  },
  {
   "cell_type": "code",
   "execution_count": 54,
   "id": "1b992a8c",
   "metadata": {},
   "outputs": [
    {
     "data": {
      "text/plain": [
       "array(['United Kingdom', 'France', 'Australia', 'Netherlands', 'Germany',\n",
       "       'Norway', 'EIRE', 'Switzerland', 'Spain', 'Poland', 'Portugal',\n",
       "       'Italy', 'Belgium', 'Lithuania', 'Japan', 'Iceland',\n",
       "       'Channel Islands', 'Denmark', 'Cyprus', 'Finland', 'Austria',\n",
       "       'Sweden', 'Greece', 'Singapore', 'Lebanon', 'United Arab Emirates',\n",
       "       'Israel', 'Saudi Arabia', 'Czech Republic', 'Canada',\n",
       "       'Unspecified', 'Brazil', 'USA', 'European Community', 'Bahrain',\n",
       "       'Malta', 'RSA'], dtype=object)"
      ]
     },
     "execution_count": 54,
     "metadata": {},
     "output_type": "execute_result"
    }
   ],
   "source": [
    "# List the unique countries\n",
    "data['Country'].unique()"
   ]
  },
  {
   "cell_type": "code",
   "execution_count": 55,
   "id": "d0b3efe7",
   "metadata": {},
   "outputs": [
    {
     "data": {
      "text/plain": [
       "Country\n",
       "United Kingdom    89.433729\n",
       "Germany            2.256141\n",
       "France             2.064793\n",
       "EIRE               1.780111\n",
       "Spain              0.621622\n",
       "Belgium            0.502809\n",
       "Switzerland        0.464851\n",
       "Netherlands        0.396996\n",
       "Portugal           0.365538\n",
       "Norway             0.265444\n",
       "Name: proportion, dtype: float64"
      ]
     },
     "execution_count": 55,
     "metadata": {},
     "output_type": "execute_result"
    }
   ],
   "source": [
    "# Display the top 10 countries by transaction volume\n",
    "data['Country'].value_counts(normalize=True).head(10) * 100"
   ]
  },
  {
   "cell_type": "markdown",
   "id": "5c5767c7",
   "metadata": {},
   "source": [
    "Since nearly 90% of transactions are from the UK, we will create a binary feature to separate UK from non-UK customers."
   ]
  },
  {
   "cell_type": "code",
   "execution_count": 56,
   "id": "17652134",
   "metadata": {},
   "outputs": [
    {
     "data": {
      "text/html": [
       "<div>\n",
       "<style scoped>\n",
       "    .dataframe tbody tr th:only-of-type {\n",
       "        vertical-align: middle;\n",
       "    }\n",
       "\n",
       "    .dataframe tbody tr th {\n",
       "        vertical-align: top;\n",
       "    }\n",
       "\n",
       "    .dataframe thead th {\n",
       "        text-align: right;\n",
       "    }\n",
       "</style>\n",
       "<table border=\"1\" class=\"dataframe\">\n",
       "  <thead>\n",
       "    <tr style=\"text-align: right;\">\n",
       "      <th></th>\n",
       "      <th>count</th>\n",
       "    </tr>\n",
       "    <tr>\n",
       "      <th>UK_transaction</th>\n",
       "      <th></th>\n",
       "    </tr>\n",
       "  </thead>\n",
       "  <tbody>\n",
       "    <tr>\n",
       "      <th>UK</th>\n",
       "      <td>343997</td>\n",
       "    </tr>\n",
       "    <tr>\n",
       "      <th>Non-UK</th>\n",
       "      <td>40642</td>\n",
       "    </tr>\n",
       "  </tbody>\n",
       "</table>\n",
       "</div>"
      ],
      "text/plain": [
       "                 count\n",
       "UK_transaction        \n",
       "UK              343997\n",
       "Non-UK           40642"
      ]
     },
     "execution_count": 56,
     "metadata": {},
     "output_type": "execute_result"
    }
   ],
   "source": [
    "# Create a feature to flag UK vs. Non-UK transactions\n",
    "data['UK_transaction'] = np.where(data['Country'] == 'United Kingdom', 'UK', 'Non-UK')\n",
    "pd.DataFrame(data['UK_transaction'].value_counts())"
   ]
  },
  {
   "cell_type": "markdown",
   "id": "c14dfc12",
   "metadata": {},
   "source": [
    "## 2.2 Continous Features"
   ]
  },
  {
   "cell_type": "markdown",
   "id": "ad6e4006",
   "metadata": {},
   "source": [
    "### 2.2.1 Total Price"
   ]
  },
  {
   "cell_type": "code",
   "execution_count": 57,
   "id": "6bf9aaef",
   "metadata": {},
   "outputs": [
    {
     "data": {
      "text/html": [
       "<div>\n",
       "<style scoped>\n",
       "    .dataframe tbody tr th:only-of-type {\n",
       "        vertical-align: middle;\n",
       "    }\n",
       "\n",
       "    .dataframe tbody tr th {\n",
       "        vertical-align: top;\n",
       "    }\n",
       "\n",
       "    .dataframe thead th {\n",
       "        text-align: right;\n",
       "    }\n",
       "</style>\n",
       "<table border=\"1\" class=\"dataframe\">\n",
       "  <thead>\n",
       "    <tr style=\"text-align: right;\">\n",
       "      <th></th>\n",
       "      <th>TotalPrice</th>\n",
       "    </tr>\n",
       "  </thead>\n",
       "  <tbody>\n",
       "    <tr>\n",
       "      <th>count</th>\n",
       "      <td>381178.00</td>\n",
       "    </tr>\n",
       "    <tr>\n",
       "      <th>mean</th>\n",
       "      <td>17.12</td>\n",
       "    </tr>\n",
       "    <tr>\n",
       "      <th>std</th>\n",
       "      <td>26.82</td>\n",
       "    </tr>\n",
       "    <tr>\n",
       "      <th>min</th>\n",
       "      <td>0.21</td>\n",
       "    </tr>\n",
       "    <tr>\n",
       "      <th>25%</th>\n",
       "      <td>4.95</td>\n",
       "    </tr>\n",
       "    <tr>\n",
       "      <th>50%</th>\n",
       "      <td>11.80</td>\n",
       "    </tr>\n",
       "    <tr>\n",
       "      <th>75%</th>\n",
       "      <td>18.75</td>\n",
       "    </tr>\n",
       "    <tr>\n",
       "      <th>max</th>\n",
       "      <td>1356.00</td>\n",
       "    </tr>\n",
       "  </tbody>\n",
       "</table>\n",
       "</div>"
      ],
      "text/plain": [
       "       TotalPrice\n",
       "count   381178.00\n",
       "mean        17.12\n",
       "std         26.82\n",
       "min          0.21\n",
       "25%          4.95\n",
       "50%         11.80\n",
       "75%         18.75\n",
       "max       1356.00"
      ]
     },
     "execution_count": 57,
     "metadata": {},
     "output_type": "execute_result"
    }
   ],
   "source": [
    "# Create a 'TotalPrice' column for monetary calculations\n",
    "data['TotalPrice'] = data['Quantity'] * data['UnitPrice']\n",
    "\n",
    "# Display summary statistics for TotalPrice on completed transactions\n",
    "completed_data = data[data['Cancel_status'] == 'Completed']\n",
    "pd.DataFrame(completed_data['TotalPrice'].describe()).round(2)"
   ]
  },
  {
   "cell_type": "code",
   "execution_count": 58,
   "id": "c9d40924",
   "metadata": {},
   "outputs": [
    {
     "data": {
      "text/plain": [
       "<Axes: ylabel='TotalPrice'>"
      ]
     },
     "execution_count": 58,
     "metadata": {},
     "output_type": "execute_result"
    },
    {
     "data": {
      "image/png": "[encoded data removed]",
      "text/plain": [
       "<Figure size 500x500 with 1 Axes>"
      ]
     },
     "metadata": {},
     "output_type": "display_data"
    }
   ],
   "source": [
    "# Boxplot of TotalPrice\n",
    "plt.figure(figsize=(5, 5))\n",
    "sns.boxplot(y='TotalPrice', data=completed_data, palette=['blue', 'red'])"
   ]
  },
  {
   "cell_type": "markdown",
   "id": "01a4b0cc",
   "metadata": {},
   "source": [
    "We will create a categorical feature based on the total price of each transaction.\n",
    "\n",
    "The cutoff values for total prices that I will use are below:\n",
    "\n",
    "* **Low-value orders**: < £50\n",
    "    * Typical small basket purchases.\n",
    "\n",
    "* **Medium-value orders**: £50 – £200\n",
    "    * Customers buying multiple items, possibly gift bundles.\n",
    "\n",
    "* **High-value orders**: £200 – £500\n",
    "    * Uncommon but plausible larger baskets.\n",
    "\n",
    "* **Very high-value orders**: > £500\n",
    "    * Rare cases, likely bulk orders, wholesale, or anomalies."
   ]
  },
  {
   "cell_type": "code",
   "execution_count": 59,
   "id": "885ca2ab",
   "metadata": {},
   "outputs": [],
   "source": [
    "# Create bins for the total price of each transaction\n",
    "# For the cancelled transactions, I will use absolute value of TotalPrice\n",
    "data['TotalPrice_range'] = pd.cut(data['TotalPrice'].abs(), bins=[0, 50, 200, 500, np.inf], \n",
    "                                    labels=[\"Low\", \"Medium\", \"High\", \"Very High\"])\n",
    "                                    "
   ]
  },
  {
   "cell_type": "code",
   "execution_count": 60,
   "id": "26d6b89d",
   "metadata": {},
   "outputs": [
    {
     "data": {
      "text/html": [
       "<div>\n",
       "<style scoped>\n",
       "    .dataframe tbody tr th:only-of-type {\n",
       "        vertical-align: middle;\n",
       "    }\n",
       "\n",
       "    .dataframe tbody tr th {\n",
       "        vertical-align: top;\n",
       "    }\n",
       "\n",
       "    .dataframe thead th {\n",
       "        text-align: right;\n",
       "    }\n",
       "</style>\n",
       "<table border=\"1\" class=\"dataframe\">\n",
       "  <thead>\n",
       "    <tr style=\"text-align: right;\">\n",
       "      <th></th>\n",
       "      <th>proportion</th>\n",
       "    </tr>\n",
       "    <tr>\n",
       "      <th>TotalPrice_range</th>\n",
       "      <th></th>\n",
       "    </tr>\n",
       "  </thead>\n",
       "  <tbody>\n",
       "    <tr>\n",
       "      <th>Low</th>\n",
       "      <td>94.754419</td>\n",
       "    </tr>\n",
       "    <tr>\n",
       "      <th>Medium</th>\n",
       "      <td>4.872264</td>\n",
       "    </tr>\n",
       "    <tr>\n",
       "      <th>High</th>\n",
       "      <td>0.354952</td>\n",
       "    </tr>\n",
       "    <tr>\n",
       "      <th>Very High</th>\n",
       "      <td>0.018364</td>\n",
       "    </tr>\n",
       "  </tbody>\n",
       "</table>\n",
       "</div>"
      ],
      "text/plain": [
       "                  proportion\n",
       "TotalPrice_range            \n",
       "Low                94.754419\n",
       "Medium              4.872264\n",
       "High                0.354952\n",
       "Very High           0.018364"
      ]
     },
     "execution_count": 60,
     "metadata": {},
     "output_type": "execute_result"
    }
   ],
   "source": [
    "# Check the proportion of transactions in each price range\n",
    "data.loc[data['Cancel_status'] == 'Completed', 'TotalPrice_range'].value_counts()\n",
    "\n",
    "# Check the proportion of transactions in each price range by cancellation status (in %)\n",
    "pd.DataFrame(data.loc[data['Cancel_status'] == 'Completed', 'TotalPrice_range'].value_counts(normalize=True).head(10) * 100)"
   ]
  },
  {
   "cell_type": "markdown",
   "id": "2e7a7a04",
   "metadata": {},
   "source": [
    "Over 94% of all transactions are low-value (under £50)."
   ]
  },
  {
   "cell_type": "markdown",
   "id": "4fa8b8cb",
   "metadata": {},
   "source": [
    "## 2.3 Time-Based Aggregations\n",
    "We can create features that summarize purchasing behavior over different time frames."
   ]
  },
  {
   "cell_type": "code",
   "execution_count": 61,
   "id": "9427d72a",
   "metadata": {},
   "outputs": [],
   "source": [
    "# Create monthly feature\n",
    "data[\"Month\"] = data['InvoiceDate'].dt.month\n",
    "data[\"Monthly_purchase\"] = data.groupby('Month')['InvoiceNo'].transform('nunique')\n",
    "data[\"Monthly_spending\"] = data.groupby('Month')['TotalPrice'].transform('sum')"
   ]
  },
  {
   "cell_type": "code",
   "execution_count": 62,
   "id": "9ef595dd",
   "metadata": {},
   "outputs": [],
   "source": [
    "# Create weekday feature\n",
    "data[\"Weekday\"] = data['InvoiceDate'].dt.dayofweek\n",
    "data[\"Weekday_purchase\"] = data.groupby('Weekday')['InvoiceNo'].transform('nunique')\n",
    "data[\"Weekday_spending\"] = data.groupby('Weekday')['TotalPrice'].transform('sum')"
   ]
  },
  {
   "cell_type": "code",
   "execution_count": 63,
   "id": "fde761e8",
   "metadata": {},
   "outputs": [],
   "source": [
    "# Create hour feature\n",
    "data[\"Hour\"] = data['InvoiceDate'].dt.hour\n",
    "data[\"Hour_purchase\"] = data.groupby('Hour')['InvoiceNo'].transform('nunique')\n",
    "data[\"Hour_spending\"] = data.groupby('Hour')['TotalPrice'].transform('sum')"
   ]
  },
  {
   "cell_type": "markdown",
   "id": "754cb1d6",
   "metadata": {},
   "source": [
    "According to the previous EDA, there is a distinct pattern between Christmas season and non-Christmas season. Thus, I will categorize months into **Christmas season** and **non-Christmas** season."
   ]
  },
  {
   "cell_type": "code",
   "execution_count": 64,
   "id": "02c8b31b",
   "metadata": {},
   "outputs": [
    {
     "data": {
      "text/html": [
       "<div>\n",
       "<style scoped>\n",
       "    .dataframe tbody tr th:only-of-type {\n",
       "        vertical-align: middle;\n",
       "    }\n",
       "\n",
       "    .dataframe tbody tr th {\n",
       "        vertical-align: top;\n",
       "    }\n",
       "\n",
       "    .dataframe thead th {\n",
       "        text-align: right;\n",
       "    }\n",
       "</style>\n",
       "<table border=\"1\" class=\"dataframe\">\n",
       "  <thead>\n",
       "    <tr style=\"text-align: right;\">\n",
       "      <th></th>\n",
       "      <th>count</th>\n",
       "    </tr>\n",
       "    <tr>\n",
       "      <th>Holiday_season</th>\n",
       "      <th></th>\n",
       "    </tr>\n",
       "  </thead>\n",
       "  <tbody>\n",
       "    <tr>\n",
       "      <th>Non-Christmas</th>\n",
       "      <td>302675</td>\n",
       "    </tr>\n",
       "    <tr>\n",
       "      <th>Christmas</th>\n",
       "      <td>81964</td>\n",
       "    </tr>\n",
       "  </tbody>\n",
       "</table>\n",
       "</div>"
      ],
      "text/plain": [
       "                 count\n",
       "Holiday_season        \n",
       "Non-Christmas   302675\n",
       "Christmas        81964"
      ]
     },
     "execution_count": 64,
     "metadata": {},
     "output_type": "execute_result"
    }
   ],
   "source": [
    "# Create categories for holiday seasons\n",
    "data['Holiday_season'] = np.where(data['Month'].isin([12, 1, 2]), 'Christmas', 'Non-Christmas')\n",
    "pd.DataFrame(data['Holiday_season'].value_counts())"
   ]
  },
  {
   "cell_type": "markdown",
   "id": "255dcf06",
   "metadata": {},
   "source": [
    "According to the previous EDA result, patterns in weekday orders and weekend orders were distinguished. I categorized orders during **weekdays** and **weekends**."
   ]
  },
  {
   "cell_type": "code",
   "execution_count": 65,
   "id": "5338c92f",
   "metadata": {},
   "outputs": [
    {
     "data": {
      "text/html": [
       "<div>\n",
       "<style scoped>\n",
       "    .dataframe tbody tr th:only-of-type {\n",
       "        vertical-align: middle;\n",
       "    }\n",
       "\n",
       "    .dataframe tbody tr th {\n",
       "        vertical-align: top;\n",
       "    }\n",
       "\n",
       "    .dataframe thead th {\n",
       "        text-align: right;\n",
       "    }\n",
       "</style>\n",
       "<table border=\"1\" class=\"dataframe\">\n",
       "  <thead>\n",
       "    <tr style=\"text-align: right;\">\n",
       "      <th></th>\n",
       "      <th>count</th>\n",
       "    </tr>\n",
       "    <tr>\n",
       "      <th>Is_Weekday</th>\n",
       "      <th></th>\n",
       "    </tr>\n",
       "  </thead>\n",
       "  <tbody>\n",
       "    <tr>\n",
       "      <th>Weekday</th>\n",
       "      <td>324201</td>\n",
       "    </tr>\n",
       "    <tr>\n",
       "      <th>Weekend</th>\n",
       "      <td>60438</td>\n",
       "    </tr>\n",
       "  </tbody>\n",
       "</table>\n",
       "</div>"
      ],
      "text/plain": [
       "             count\n",
       "Is_Weekday        \n",
       "Weekday     324201\n",
       "Weekend      60438"
      ]
     },
     "execution_count": 65,
     "metadata": {},
     "output_type": "execute_result"
    }
   ],
   "source": [
    "# Create category for weekday\n",
    "data['Is_Weekday'] = np.where(data['Weekday'].isin([0, 1, 2, 3, 4]), 'Weekday', 'Weekend')\n",
    "pd.DataFrame(data['Is_Weekday'].value_counts())"
   ]
  },
  {
   "cell_type": "markdown",
   "id": "1b5e2ea1",
   "metadata": {},
   "source": [
    "According to the previous EDA, there are distinct patterns of orders in morning/afternoon times and evening/night times. I categorized them into **day** and **night**."
   ]
  },
  {
   "cell_type": "code",
   "execution_count": 66,
   "id": "396a2206",
   "metadata": {},
   "outputs": [
    {
     "data": {
      "text/html": [
       "<div>\n",
       "<style scoped>\n",
       "    .dataframe tbody tr th:only-of-type {\n",
       "        vertical-align: middle;\n",
       "    }\n",
       "\n",
       "    .dataframe tbody tr th {\n",
       "        vertical-align: top;\n",
       "    }\n",
       "\n",
       "    .dataframe thead th {\n",
       "        text-align: right;\n",
       "    }\n",
       "</style>\n",
       "<table border=\"1\" class=\"dataframe\">\n",
       "  <thead>\n",
       "    <tr style=\"text-align: right;\">\n",
       "      <th></th>\n",
       "      <th>count</th>\n",
       "    </tr>\n",
       "    <tr>\n",
       "      <th>Is_Daytime</th>\n",
       "      <th></th>\n",
       "    </tr>\n",
       "  </thead>\n",
       "  <tbody>\n",
       "    <tr>\n",
       "      <th>Daytime</th>\n",
       "      <td>356203</td>\n",
       "    </tr>\n",
       "    <tr>\n",
       "      <th>Nighttime</th>\n",
       "      <td>28436</td>\n",
       "    </tr>\n",
       "  </tbody>\n",
       "</table>\n",
       "</div>"
      ],
      "text/plain": [
       "             count\n",
       "Is_Daytime        \n",
       "Daytime     356203\n",
       "Nighttime    28436"
      ]
     },
     "execution_count": 66,
     "metadata": {},
     "output_type": "execute_result"
    }
   ],
   "source": [
    "# Create category for hour\n",
    "data['Is_Daytime'] = np.where(data['Hour'].isin([9, 10, 11, 12, 13, 14, 15, 16]), 'Daytime', 'Nighttime')\n",
    "pd.DataFrame(data['Is_Daytime'].value_counts())"
   ]
  },
  {
   "cell_type": "code",
   "execution_count": 67,
   "id": "89e94121",
   "metadata": {},
   "outputs": [
    {
     "data": {
      "text/html": [
       "<div>\n",
       "<style scoped>\n",
       "    .dataframe tbody tr th:only-of-type {\n",
       "        vertical-align: middle;\n",
       "    }\n",
       "\n",
       "    .dataframe tbody tr th {\n",
       "        vertical-align: top;\n",
       "    }\n",
       "\n",
       "    .dataframe thead th {\n",
       "        text-align: right;\n",
       "    }\n",
       "</style>\n",
       "<table border=\"1\" class=\"dataframe\">\n",
       "  <thead>\n",
       "    <tr style=\"text-align: right;\">\n",
       "      <th></th>\n",
       "      <th>Monthly_purchase</th>\n",
       "      <th>Monthly_spending</th>\n",
       "      <th>Weekday_purchase</th>\n",
       "      <th>Weekday_spending</th>\n",
       "      <th>Hour_purchase</th>\n",
       "      <th>Hour_spending</th>\n",
       "      <th>Holiday_season</th>\n",
       "      <th>Is_Weekday</th>\n",
       "      <th>Is_Daytime</th>\n",
       "    </tr>\n",
       "  </thead>\n",
       "  <tbody>\n",
       "    <tr>\n",
       "      <th>0</th>\n",
       "      <td>2320</td>\n",
       "      <td>701857.82</td>\n",
       "      <td>3656</td>\n",
       "      <td>1201334.52</td>\n",
       "      <td>559</td>\n",
       "      <td>210698.12</td>\n",
       "      <td>Christmas</td>\n",
       "      <td>Weekday</td>\n",
       "      <td>Nighttime</td>\n",
       "    </tr>\n",
       "    <tr>\n",
       "      <th>1</th>\n",
       "      <td>2320</td>\n",
       "      <td>701857.82</td>\n",
       "      <td>3656</td>\n",
       "      <td>1201334.52</td>\n",
       "      <td>559</td>\n",
       "      <td>210698.12</td>\n",
       "      <td>Christmas</td>\n",
       "      <td>Weekday</td>\n",
       "      <td>Nighttime</td>\n",
       "    </tr>\n",
       "    <tr>\n",
       "      <th>2</th>\n",
       "      <td>2320</td>\n",
       "      <td>701857.82</td>\n",
       "      <td>3656</td>\n",
       "      <td>1201334.52</td>\n",
       "      <td>559</td>\n",
       "      <td>210698.12</td>\n",
       "      <td>Christmas</td>\n",
       "      <td>Weekday</td>\n",
       "      <td>Nighttime</td>\n",
       "    </tr>\n",
       "    <tr>\n",
       "      <th>3</th>\n",
       "      <td>2320</td>\n",
       "      <td>701857.82</td>\n",
       "      <td>3656</td>\n",
       "      <td>1201334.52</td>\n",
       "      <td>559</td>\n",
       "      <td>210698.12</td>\n",
       "      <td>Christmas</td>\n",
       "      <td>Weekday</td>\n",
       "      <td>Nighttime</td>\n",
       "    </tr>\n",
       "    <tr>\n",
       "      <th>4</th>\n",
       "      <td>2320</td>\n",
       "      <td>701857.82</td>\n",
       "      <td>3656</td>\n",
       "      <td>1201334.52</td>\n",
       "      <td>559</td>\n",
       "      <td>210698.12</td>\n",
       "      <td>Christmas</td>\n",
       "      <td>Weekday</td>\n",
       "      <td>Nighttime</td>\n",
       "    </tr>\n",
       "    <tr>\n",
       "      <th>5</th>\n",
       "      <td>2320</td>\n",
       "      <td>701857.82</td>\n",
       "      <td>3656</td>\n",
       "      <td>1201334.52</td>\n",
       "      <td>559</td>\n",
       "      <td>210698.12</td>\n",
       "      <td>Christmas</td>\n",
       "      <td>Weekday</td>\n",
       "      <td>Nighttime</td>\n",
       "    </tr>\n",
       "    <tr>\n",
       "      <th>6</th>\n",
       "      <td>2320</td>\n",
       "      <td>701857.82</td>\n",
       "      <td>3656</td>\n",
       "      <td>1201334.52</td>\n",
       "      <td>559</td>\n",
       "      <td>210698.12</td>\n",
       "      <td>Christmas</td>\n",
       "      <td>Weekday</td>\n",
       "      <td>Nighttime</td>\n",
       "    </tr>\n",
       "    <tr>\n",
       "      <th>7</th>\n",
       "      <td>2320</td>\n",
       "      <td>701857.82</td>\n",
       "      <td>3656</td>\n",
       "      <td>1201334.52</td>\n",
       "      <td>559</td>\n",
       "      <td>210698.12</td>\n",
       "      <td>Christmas</td>\n",
       "      <td>Weekday</td>\n",
       "      <td>Nighttime</td>\n",
       "    </tr>\n",
       "    <tr>\n",
       "      <th>8</th>\n",
       "      <td>2320</td>\n",
       "      <td>701857.82</td>\n",
       "      <td>3656</td>\n",
       "      <td>1201334.52</td>\n",
       "      <td>559</td>\n",
       "      <td>210698.12</td>\n",
       "      <td>Christmas</td>\n",
       "      <td>Weekday</td>\n",
       "      <td>Nighttime</td>\n",
       "    </tr>\n",
       "    <tr>\n",
       "      <th>9</th>\n",
       "      <td>2320</td>\n",
       "      <td>701857.82</td>\n",
       "      <td>3656</td>\n",
       "      <td>1201334.52</td>\n",
       "      <td>559</td>\n",
       "      <td>210698.12</td>\n",
       "      <td>Christmas</td>\n",
       "      <td>Weekday</td>\n",
       "      <td>Nighttime</td>\n",
       "    </tr>\n",
       "  </tbody>\n",
       "</table>\n",
       "</div>"
      ],
      "text/plain": [
       "   Monthly_purchase  Monthly_spending  Weekday_purchase  Weekday_spending  \\\n",
       "0              2320         701857.82              3656        1201334.52   \n",
       "1              2320         701857.82              3656        1201334.52   \n",
       "2              2320         701857.82              3656        1201334.52   \n",
       "3              2320         701857.82              3656        1201334.52   \n",
       "4              2320         701857.82              3656        1201334.52   \n",
       "5              2320         701857.82              3656        1201334.52   \n",
       "6              2320         701857.82              3656        1201334.52   \n",
       "7              2320         701857.82              3656        1201334.52   \n",
       "8              2320         701857.82              3656        1201334.52   \n",
       "9              2320         701857.82              3656        1201334.52   \n",
       "\n",
       "   Hour_purchase  Hour_spending Holiday_season Is_Weekday Is_Daytime  \n",
       "0            559      210698.12      Christmas    Weekday  Nighttime  \n",
       "1            559      210698.12      Christmas    Weekday  Nighttime  \n",
       "2            559      210698.12      Christmas    Weekday  Nighttime  \n",
       "3            559      210698.12      Christmas    Weekday  Nighttime  \n",
       "4            559      210698.12      Christmas    Weekday  Nighttime  \n",
       "5            559      210698.12      Christmas    Weekday  Nighttime  \n",
       "6            559      210698.12      Christmas    Weekday  Nighttime  \n",
       "7            559      210698.12      Christmas    Weekday  Nighttime  \n",
       "8            559      210698.12      Christmas    Weekday  Nighttime  \n",
       "9            559      210698.12      Christmas    Weekday  Nighttime  "
      ]
     },
     "execution_count": 67,
     "metadata": {},
     "output_type": "execute_result"
    }
   ],
   "source": [
    "# Display the newly created time-based features\n",
    "data[[\"Monthly_purchase\", \"Monthly_spending\", \"Weekday_purchase\", \"Weekday_spending\", \n",
    "        \"Hour_purchase\", \"Hour_spending\", \"Holiday_season\", \"Is_Weekday\", \"Is_Daytime\"]].head(10)"
   ]
  },
  {
   "cell_type": "markdown",
   "id": "73960d1f",
   "metadata": {},
   "source": [
    "## 2.4 RFM (Recency, Frequency, Monetary) Features\n",
    "To get a deeper understanding of customer value and engagement, I will engineer RFM features. These are standard metrics used in marketing to segment customers."
   ]
  },
  {
   "cell_type": "markdown",
   "id": "5a9735c7",
   "metadata": {},
   "source": [
    "* **Recency (R)**: Days since the customer's last purchase. A lower value indicates a more recent (and potentially more engaged) customer."
   ]
  },
  {
   "cell_type": "code",
   "execution_count": 68,
   "id": "5b1f444a",
   "metadata": {},
   "outputs": [
    {
     "data": {
      "text/html": [
       "<div>\n",
       "<style scoped>\n",
       "    .dataframe tbody tr th:only-of-type {\n",
       "        vertical-align: middle;\n",
       "    }\n",
       "\n",
       "    .dataframe tbody tr th {\n",
       "        vertical-align: top;\n",
       "    }\n",
       "\n",
       "    .dataframe thead th {\n",
       "        text-align: right;\n",
       "    }\n",
       "</style>\n",
       "<table border=\"1\" class=\"dataframe\">\n",
       "  <thead>\n",
       "    <tr style=\"text-align: right;\">\n",
       "      <th></th>\n",
       "      <th>CustomerID</th>\n",
       "      <th>Recency</th>\n",
       "    </tr>\n",
       "  </thead>\n",
       "  <tbody>\n",
       "    <tr>\n",
       "      <th>0</th>\n",
       "      <td>17850</td>\n",
       "      <td>373</td>\n",
       "    </tr>\n",
       "    <tr>\n",
       "      <th>1</th>\n",
       "      <td>17850</td>\n",
       "      <td>373</td>\n",
       "    </tr>\n",
       "    <tr>\n",
       "      <th>2</th>\n",
       "      <td>17850</td>\n",
       "      <td>373</td>\n",
       "    </tr>\n",
       "    <tr>\n",
       "      <th>3</th>\n",
       "      <td>17850</td>\n",
       "      <td>373</td>\n",
       "    </tr>\n",
       "    <tr>\n",
       "      <th>4</th>\n",
       "      <td>17850</td>\n",
       "      <td>373</td>\n",
       "    </tr>\n",
       "    <tr>\n",
       "      <th>5</th>\n",
       "      <td>17850</td>\n",
       "      <td>373</td>\n",
       "    </tr>\n",
       "    <tr>\n",
       "      <th>6</th>\n",
       "      <td>17850</td>\n",
       "      <td>373</td>\n",
       "    </tr>\n",
       "    <tr>\n",
       "      <th>7</th>\n",
       "      <td>17850</td>\n",
       "      <td>373</td>\n",
       "    </tr>\n",
       "    <tr>\n",
       "      <th>8</th>\n",
       "      <td>17850</td>\n",
       "      <td>373</td>\n",
       "    </tr>\n",
       "    <tr>\n",
       "      <th>9</th>\n",
       "      <td>13047</td>\n",
       "      <td>373</td>\n",
       "    </tr>\n",
       "  </tbody>\n",
       "</table>\n",
       "</div>"
      ],
      "text/plain": [
       "  CustomerID  Recency\n",
       "0      17850      373\n",
       "1      17850      373\n",
       "2      17850      373\n",
       "3      17850      373\n",
       "4      17850      373\n",
       "5      17850      373\n",
       "6      17850      373\n",
       "7      17850      373\n",
       "8      17850      373\n",
       "9      13047      373"
      ]
     },
     "execution_count": 68,
     "metadata": {},
     "output_type": "execute_result"
    }
   ],
   "source": [
    "# Recency (R): days since last purchase for each customer\n",
    "data['Recency'] = (data['InvoiceDate'].max() - data['InvoiceDate']).dt.days\n",
    "data[['CustomerID','Recency']].head(10)"
   ]
  },
  {
   "cell_type": "markdown",
   "id": "5c06c556",
   "metadata": {},
   "source": [
    "* **Frequency (F)**: The total number of unique invoices (purchases) made by the customer. A higher value suggests greater loyalty."
   ]
  },
  {
   "cell_type": "code",
   "execution_count": 69,
   "id": "2f0c01e6",
   "metadata": {},
   "outputs": [
    {
     "data": {
      "text/html": [
       "<div>\n",
       "<style scoped>\n",
       "    .dataframe tbody tr th:only-of-type {\n",
       "        vertical-align: middle;\n",
       "    }\n",
       "\n",
       "    .dataframe tbody tr th {\n",
       "        vertical-align: top;\n",
       "    }\n",
       "\n",
       "    .dataframe thead th {\n",
       "        text-align: right;\n",
       "    }\n",
       "</style>\n",
       "<table border=\"1\" class=\"dataframe\">\n",
       "  <thead>\n",
       "    <tr style=\"text-align: right;\">\n",
       "      <th></th>\n",
       "      <th>CustomerID</th>\n",
       "      <th>Frequency</th>\n",
       "    </tr>\n",
       "  </thead>\n",
       "  <tbody>\n",
       "    <tr>\n",
       "      <th>0</th>\n",
       "      <td>17850</td>\n",
       "      <td>35</td>\n",
       "    </tr>\n",
       "    <tr>\n",
       "      <th>1</th>\n",
       "      <td>17850</td>\n",
       "      <td>35</td>\n",
       "    </tr>\n",
       "    <tr>\n",
       "      <th>2</th>\n",
       "      <td>17850</td>\n",
       "      <td>35</td>\n",
       "    </tr>\n",
       "    <tr>\n",
       "      <th>3</th>\n",
       "      <td>17850</td>\n",
       "      <td>35</td>\n",
       "    </tr>\n",
       "    <tr>\n",
       "      <th>4</th>\n",
       "      <td>17850</td>\n",
       "      <td>35</td>\n",
       "    </tr>\n",
       "    <tr>\n",
       "      <th>5</th>\n",
       "      <td>17850</td>\n",
       "      <td>35</td>\n",
       "    </tr>\n",
       "    <tr>\n",
       "      <th>6</th>\n",
       "      <td>17850</td>\n",
       "      <td>35</td>\n",
       "    </tr>\n",
       "    <tr>\n",
       "      <th>7</th>\n",
       "      <td>17850</td>\n",
       "      <td>35</td>\n",
       "    </tr>\n",
       "    <tr>\n",
       "      <th>8</th>\n",
       "      <td>17850</td>\n",
       "      <td>35</td>\n",
       "    </tr>\n",
       "    <tr>\n",
       "      <th>9</th>\n",
       "      <td>13047</td>\n",
       "      <td>14</td>\n",
       "    </tr>\n",
       "  </tbody>\n",
       "</table>\n",
       "</div>"
      ],
      "text/plain": [
       "  CustomerID  Frequency\n",
       "0      17850         35\n",
       "1      17850         35\n",
       "2      17850         35\n",
       "3      17850         35\n",
       "4      17850         35\n",
       "5      17850         35\n",
       "6      17850         35\n",
       "7      17850         35\n",
       "8      17850         35\n",
       "9      13047         14"
      ]
     },
     "execution_count": 69,
     "metadata": {},
     "output_type": "execute_result"
    }
   ],
   "source": [
    "# Frequency (F): total number of unique invoices per customer\n",
    "data['Frequency'] = data.groupby('CustomerID')['InvoiceNo'].transform('nunique')\n",
    "data[['CustomerID','Frequency']].head(10)"
   ]
  },
  {
   "cell_type": "markdown",
   "id": "d7ec8de5",
   "metadata": {},
   "source": [
    "* **Monetary (M)**: The total amount of money spent by the customer. A higher value indicates a higher-value customer."
   ]
  },
  {
   "cell_type": "code",
   "execution_count": 70,
   "id": "c2204b56",
   "metadata": {},
   "outputs": [
    {
     "data": {
      "text/html": [
       "<div>\n",
       "<style scoped>\n",
       "    .dataframe tbody tr th:only-of-type {\n",
       "        vertical-align: middle;\n",
       "    }\n",
       "\n",
       "    .dataframe tbody tr th {\n",
       "        vertical-align: top;\n",
       "    }\n",
       "\n",
       "    .dataframe thead th {\n",
       "        text-align: right;\n",
       "    }\n",
       "</style>\n",
       "<table border=\"1\" class=\"dataframe\">\n",
       "  <thead>\n",
       "    <tr style=\"text-align: right;\">\n",
       "      <th></th>\n",
       "      <th>CustomerID</th>\n",
       "      <th>Monetary</th>\n",
       "    </tr>\n",
       "  </thead>\n",
       "  <tbody>\n",
       "    <tr>\n",
       "      <th>0</th>\n",
       "      <td>17850</td>\n",
       "      <td>4767.19</td>\n",
       "    </tr>\n",
       "    <tr>\n",
       "      <th>1</th>\n",
       "      <td>17850</td>\n",
       "      <td>4767.19</td>\n",
       "    </tr>\n",
       "    <tr>\n",
       "      <th>2</th>\n",
       "      <td>17850</td>\n",
       "      <td>4767.19</td>\n",
       "    </tr>\n",
       "    <tr>\n",
       "      <th>3</th>\n",
       "      <td>17850</td>\n",
       "      <td>4767.19</td>\n",
       "    </tr>\n",
       "    <tr>\n",
       "      <th>4</th>\n",
       "      <td>17850</td>\n",
       "      <td>4767.19</td>\n",
       "    </tr>\n",
       "    <tr>\n",
       "      <th>5</th>\n",
       "      <td>17850</td>\n",
       "      <td>4767.19</td>\n",
       "    </tr>\n",
       "    <tr>\n",
       "      <th>6</th>\n",
       "      <td>17850</td>\n",
       "      <td>4767.19</td>\n",
       "    </tr>\n",
       "    <tr>\n",
       "      <th>7</th>\n",
       "      <td>17850</td>\n",
       "      <td>4767.19</td>\n",
       "    </tr>\n",
       "    <tr>\n",
       "      <th>8</th>\n",
       "      <td>17850</td>\n",
       "      <td>4767.19</td>\n",
       "    </tr>\n",
       "    <tr>\n",
       "      <th>9</th>\n",
       "      <td>13047</td>\n",
       "      <td>3158.05</td>\n",
       "    </tr>\n",
       "  </tbody>\n",
       "</table>\n",
       "</div>"
      ],
      "text/plain": [
       "  CustomerID  Monetary\n",
       "0      17850   4767.19\n",
       "1      17850   4767.19\n",
       "2      17850   4767.19\n",
       "3      17850   4767.19\n",
       "4      17850   4767.19\n",
       "5      17850   4767.19\n",
       "6      17850   4767.19\n",
       "7      17850   4767.19\n",
       "8      17850   4767.19\n",
       "9      13047   3158.05"
      ]
     },
     "execution_count": 70,
     "metadata": {},
     "output_type": "execute_result"
    }
   ],
   "source": [
    "# Monetary (M): total spending per customer\n",
    "data['Monetary'] = data.groupby('CustomerID')['TotalPrice'].transform('sum')\n",
    "data[['CustomerID','Monetary']].head(10)"
   ]
  },
  {
   "cell_type": "markdown",
   "id": "cbe0504f",
   "metadata": {},
   "source": [
    "# 3. Final Data Preprocessing for Clustering\n",
    "Before applying distance-based clustering algorithms, it is essential to scale our numerical features and encode our categorical features. This ensures that all features contribute equally to the distance calculations."
   ]
  },
  {
   "cell_type": "code",
   "execution_count": 71,
   "id": "c3117e0b",
   "metadata": {},
   "outputs": [
    {
     "data": {
      "text/html": [
       "<div>\n",
       "<style scoped>\n",
       "    .dataframe tbody tr th:only-of-type {\n",
       "        vertical-align: middle;\n",
       "    }\n",
       "\n",
       "    .dataframe tbody tr th {\n",
       "        vertical-align: top;\n",
       "    }\n",
       "\n",
       "    .dataframe thead th {\n",
       "        text-align: right;\n",
       "    }\n",
       "</style>\n",
       "<table border=\"1\" class=\"dataframe\">\n",
       "  <thead>\n",
       "    <tr style=\"text-align: right;\">\n",
       "      <th></th>\n",
       "      <th>InvoiceNo</th>\n",
       "      <th>StockCode</th>\n",
       "      <th>Description</th>\n",
       "      <th>Quantity</th>\n",
       "      <th>InvoiceDate</th>\n",
       "      <th>UnitPrice</th>\n",
       "      <th>CustomerID</th>\n",
       "      <th>Country</th>\n",
       "      <th>Cancel_status</th>\n",
       "      <th>Gift_Seasonal</th>\n",
       "      <th>...</th>\n",
       "      <th>Weekday_spending</th>\n",
       "      <th>Hour</th>\n",
       "      <th>Hour_purchase</th>\n",
       "      <th>Hour_spending</th>\n",
       "      <th>Holiday_season</th>\n",
       "      <th>Is_Weekday</th>\n",
       "      <th>Is_Daytime</th>\n",
       "      <th>Recency</th>\n",
       "      <th>Frequency</th>\n",
       "      <th>Monetary</th>\n",
       "    </tr>\n",
       "  </thead>\n",
       "  <tbody>\n",
       "    <tr>\n",
       "      <th>0</th>\n",
       "      <td>536365</td>\n",
       "      <td>85123A</td>\n",
       "      <td>white hanging heart t-light holder</td>\n",
       "      <td>6</td>\n",
       "      <td>2010-12-01 08:26:00</td>\n",
       "      <td>2.55</td>\n",
       "      <td>17850</td>\n",
       "      <td>United Kingdom</td>\n",
       "      <td>Completed</td>\n",
       "      <td>1</td>\n",
       "      <td>...</td>\n",
       "      <td>1201334.52</td>\n",
       "      <td>8</td>\n",
       "      <td>559</td>\n",
       "      <td>210698.12</td>\n",
       "      <td>Christmas</td>\n",
       "      <td>Weekday</td>\n",
       "      <td>Nighttime</td>\n",
       "      <td>373</td>\n",
       "      <td>35</td>\n",
       "      <td>4767.19</td>\n",
       "    </tr>\n",
       "    <tr>\n",
       "      <th>1</th>\n",
       "      <td>536365</td>\n",
       "      <td>71053</td>\n",
       "      <td>white metal lantern</td>\n",
       "      <td>6</td>\n",
       "      <td>2010-12-01 08:26:00</td>\n",
       "      <td>3.39</td>\n",
       "      <td>17850</td>\n",
       "      <td>United Kingdom</td>\n",
       "      <td>Completed</td>\n",
       "      <td>0</td>\n",
       "      <td>...</td>\n",
       "      <td>1201334.52</td>\n",
       "      <td>8</td>\n",
       "      <td>559</td>\n",
       "      <td>210698.12</td>\n",
       "      <td>Christmas</td>\n",
       "      <td>Weekday</td>\n",
       "      <td>Nighttime</td>\n",
       "      <td>373</td>\n",
       "      <td>35</td>\n",
       "      <td>4767.19</td>\n",
       "    </tr>\n",
       "    <tr>\n",
       "      <th>2</th>\n",
       "      <td>536365</td>\n",
       "      <td>84406B</td>\n",
       "      <td>cream cupid hearts coat hanger</td>\n",
       "      <td>8</td>\n",
       "      <td>2010-12-01 08:26:00</td>\n",
       "      <td>2.75</td>\n",
       "      <td>17850</td>\n",
       "      <td>United Kingdom</td>\n",
       "      <td>Completed</td>\n",
       "      <td>1</td>\n",
       "      <td>...</td>\n",
       "      <td>1201334.52</td>\n",
       "      <td>8</td>\n",
       "      <td>559</td>\n",
       "      <td>210698.12</td>\n",
       "      <td>Christmas</td>\n",
       "      <td>Weekday</td>\n",
       "      <td>Nighttime</td>\n",
       "      <td>373</td>\n",
       "      <td>35</td>\n",
       "      <td>4767.19</td>\n",
       "    </tr>\n",
       "    <tr>\n",
       "      <th>3</th>\n",
       "      <td>536365</td>\n",
       "      <td>84029G</td>\n",
       "      <td>knitted union flag hot water bottle</td>\n",
       "      <td>6</td>\n",
       "      <td>2010-12-01 08:26:00</td>\n",
       "      <td>3.39</td>\n",
       "      <td>17850</td>\n",
       "      <td>United Kingdom</td>\n",
       "      <td>Completed</td>\n",
       "      <td>0</td>\n",
       "      <td>...</td>\n",
       "      <td>1201334.52</td>\n",
       "      <td>8</td>\n",
       "      <td>559</td>\n",
       "      <td>210698.12</td>\n",
       "      <td>Christmas</td>\n",
       "      <td>Weekday</td>\n",
       "      <td>Nighttime</td>\n",
       "      <td>373</td>\n",
       "      <td>35</td>\n",
       "      <td>4767.19</td>\n",
       "    </tr>\n",
       "    <tr>\n",
       "      <th>4</th>\n",
       "      <td>536365</td>\n",
       "      <td>84029E</td>\n",
       "      <td>red woolly hottie white heart.</td>\n",
       "      <td>6</td>\n",
       "      <td>2010-12-01 08:26:00</td>\n",
       "      <td>3.39</td>\n",
       "      <td>17850</td>\n",
       "      <td>United Kingdom</td>\n",
       "      <td>Completed</td>\n",
       "      <td>1</td>\n",
       "      <td>...</td>\n",
       "      <td>1201334.52</td>\n",
       "      <td>8</td>\n",
       "      <td>559</td>\n",
       "      <td>210698.12</td>\n",
       "      <td>Christmas</td>\n",
       "      <td>Weekday</td>\n",
       "      <td>Nighttime</td>\n",
       "      <td>373</td>\n",
       "      <td>35</td>\n",
       "      <td>4767.19</td>\n",
       "    </tr>\n",
       "  </tbody>\n",
       "</table>\n",
       "<p>5 rows × 32 columns</p>\n",
       "</div>"
      ],
      "text/plain": [
       "  InvoiceNo StockCode                          Description  Quantity  \\\n",
       "0    536365    85123A   white hanging heart t-light holder         6   \n",
       "1    536365     71053                  white metal lantern         6   \n",
       "2    536365    84406B       cream cupid hearts coat hanger         8   \n",
       "3    536365    84029G  knitted union flag hot water bottle         6   \n",
       "4    536365    84029E       red woolly hottie white heart.         6   \n",
       "\n",
       "          InvoiceDate  UnitPrice CustomerID         Country Cancel_status  \\\n",
       "0 2010-12-01 08:26:00       2.55      17850  United Kingdom     Completed   \n",
       "1 2010-12-01 08:26:00       3.39      17850  United Kingdom     Completed   \n",
       "2 2010-12-01 08:26:00       2.75      17850  United Kingdom     Completed   \n",
       "3 2010-12-01 08:26:00       3.39      17850  United Kingdom     Completed   \n",
       "4 2010-12-01 08:26:00       3.39      17850  United Kingdom     Completed   \n",
       "\n",
       "   Gift_Seasonal  ...  Weekday_spending  Hour  Hour_purchase  Hour_spending  \\\n",
       "0              1  ...        1201334.52     8            559      210698.12   \n",
       "1              0  ...        1201334.52     8            559      210698.12   \n",
       "2              1  ...        1201334.52     8            559      210698.12   \n",
       "3              0  ...        1201334.52     8            559      210698.12   \n",
       "4              1  ...        1201334.52     8            559      210698.12   \n",
       "\n",
       "  Holiday_season  Is_Weekday Is_Daytime  Recency  Frequency  Monetary  \n",
       "0      Christmas     Weekday  Nighttime      373         35   4767.19  \n",
       "1      Christmas     Weekday  Nighttime      373         35   4767.19  \n",
       "2      Christmas     Weekday  Nighttime      373         35   4767.19  \n",
       "3      Christmas     Weekday  Nighttime      373         35   4767.19  \n",
       "4      Christmas     Weekday  Nighttime      373         35   4767.19  \n",
       "\n",
       "[5 rows x 32 columns]"
      ]
     },
     "execution_count": 71,
     "metadata": {},
     "output_type": "execute_result"
    }
   ],
   "source": [
    "data.head()"
   ]
  },
  {
   "cell_type": "code",
   "execution_count": 72,
   "id": "9d6bb893",
   "metadata": {},
   "outputs": [
    {
     "data": {
      "text/plain": [
       "Index(['InvoiceNo', 'StockCode', 'Description', 'Quantity', 'InvoiceDate',\n",
       "       'UnitPrice', 'CustomerID', 'Country', 'Cancel_status', 'Gift_Seasonal',\n",
       "       'Bags_Accessories', 'Kitchenware', 'Home_Decor', 'Household',\n",
       "       'UK_transaction', 'TotalPrice', 'TotalPrice_range', 'Month',\n",
       "       'Monthly_purchase', 'Monthly_spending', 'Weekday', 'Weekday_purchase',\n",
       "       'Weekday_spending', 'Hour', 'Hour_purchase', 'Hour_spending',\n",
       "       'Holiday_season', 'Is_Weekday', 'Is_Daytime', 'Recency', 'Frequency',\n",
       "       'Monetary'],\n",
       "      dtype='object')"
      ]
     },
     "execution_count": 72,
     "metadata": {},
     "output_type": "execute_result"
    }
   ],
   "source": [
    "# Review the final column names\n",
    "data.columns"
   ]
  },
  {
   "cell_type": "code",
   "execution_count": 73,
   "id": "a64c7312",
   "metadata": {},
   "outputs": [
    {
     "data": {
      "text/html": [
       "<div>\n",
       "<style scoped>\n",
       "    .dataframe tbody tr th:only-of-type {\n",
       "        vertical-align: middle;\n",
       "    }\n",
       "\n",
       "    .dataframe tbody tr th {\n",
       "        vertical-align: top;\n",
       "    }\n",
       "\n",
       "    .dataframe thead th {\n",
       "        text-align: right;\n",
       "    }\n",
       "</style>\n",
       "<table border=\"1\" class=\"dataframe\">\n",
       "  <thead>\n",
       "    <tr style=\"text-align: right;\">\n",
       "      <th></th>\n",
       "      <th>Quantity</th>\n",
       "      <th>UnitPrice</th>\n",
       "      <th>CustomerID</th>\n",
       "      <th>Cancel_status</th>\n",
       "      <th>Gift_Seasonal</th>\n",
       "      <th>Bags_Accessories</th>\n",
       "      <th>Kitchenware</th>\n",
       "      <th>Home_Decor</th>\n",
       "      <th>Household</th>\n",
       "      <th>UK_transaction</th>\n",
       "      <th>...</th>\n",
       "      <th>Weekday_purchase</th>\n",
       "      <th>Weekday_spending</th>\n",
       "      <th>Hour_purchase</th>\n",
       "      <th>Hour_spending</th>\n",
       "      <th>Holiday_season</th>\n",
       "      <th>Is_Weekday</th>\n",
       "      <th>Is_Daytime</th>\n",
       "      <th>Recency</th>\n",
       "      <th>Frequency</th>\n",
       "      <th>Monetary</th>\n",
       "    </tr>\n",
       "  </thead>\n",
       "  <tbody>\n",
       "    <tr>\n",
       "      <th>0</th>\n",
       "      <td>6</td>\n",
       "      <td>2.55</td>\n",
       "      <td>17850</td>\n",
       "      <td>Completed</td>\n",
       "      <td>1</td>\n",
       "      <td>0</td>\n",
       "      <td>0</td>\n",
       "      <td>1</td>\n",
       "      <td>0</td>\n",
       "      <td>UK</td>\n",
       "      <td>...</td>\n",
       "      <td>3656</td>\n",
       "      <td>1201334.52</td>\n",
       "      <td>559</td>\n",
       "      <td>210698.12</td>\n",
       "      <td>Christmas</td>\n",
       "      <td>Weekday</td>\n",
       "      <td>Nighttime</td>\n",
       "      <td>373</td>\n",
       "      <td>35</td>\n",
       "      <td>4767.19</td>\n",
       "    </tr>\n",
       "    <tr>\n",
       "      <th>1</th>\n",
       "      <td>6</td>\n",
       "      <td>3.39</td>\n",
       "      <td>17850</td>\n",
       "      <td>Completed</td>\n",
       "      <td>0</td>\n",
       "      <td>0</td>\n",
       "      <td>0</td>\n",
       "      <td>0</td>\n",
       "      <td>1</td>\n",
       "      <td>UK</td>\n",
       "      <td>...</td>\n",
       "      <td>3656</td>\n",
       "      <td>1201334.52</td>\n",
       "      <td>559</td>\n",
       "      <td>210698.12</td>\n",
       "      <td>Christmas</td>\n",
       "      <td>Weekday</td>\n",
       "      <td>Nighttime</td>\n",
       "      <td>373</td>\n",
       "      <td>35</td>\n",
       "      <td>4767.19</td>\n",
       "    </tr>\n",
       "    <tr>\n",
       "      <th>2</th>\n",
       "      <td>8</td>\n",
       "      <td>2.75</td>\n",
       "      <td>17850</td>\n",
       "      <td>Completed</td>\n",
       "      <td>1</td>\n",
       "      <td>0</td>\n",
       "      <td>1</td>\n",
       "      <td>0</td>\n",
       "      <td>0</td>\n",
       "      <td>UK</td>\n",
       "      <td>...</td>\n",
       "      <td>3656</td>\n",
       "      <td>1201334.52</td>\n",
       "      <td>559</td>\n",
       "      <td>210698.12</td>\n",
       "      <td>Christmas</td>\n",
       "      <td>Weekday</td>\n",
       "      <td>Nighttime</td>\n",
       "      <td>373</td>\n",
       "      <td>35</td>\n",
       "      <td>4767.19</td>\n",
       "    </tr>\n",
       "    <tr>\n",
       "      <th>3</th>\n",
       "      <td>6</td>\n",
       "      <td>3.39</td>\n",
       "      <td>17850</td>\n",
       "      <td>Completed</td>\n",
       "      <td>0</td>\n",
       "      <td>0</td>\n",
       "      <td>0</td>\n",
       "      <td>0</td>\n",
       "      <td>1</td>\n",
       "      <td>UK</td>\n",
       "      <td>...</td>\n",
       "      <td>3656</td>\n",
       "      <td>1201334.52</td>\n",
       "      <td>559</td>\n",
       "      <td>210698.12</td>\n",
       "      <td>Christmas</td>\n",
       "      <td>Weekday</td>\n",
       "      <td>Nighttime</td>\n",
       "      <td>373</td>\n",
       "      <td>35</td>\n",
       "      <td>4767.19</td>\n",
       "    </tr>\n",
       "    <tr>\n",
       "      <th>4</th>\n",
       "      <td>6</td>\n",
       "      <td>3.39</td>\n",
       "      <td>17850</td>\n",
       "      <td>Completed</td>\n",
       "      <td>1</td>\n",
       "      <td>0</td>\n",
       "      <td>0</td>\n",
       "      <td>0</td>\n",
       "      <td>0</td>\n",
       "      <td>UK</td>\n",
       "      <td>...</td>\n",
       "      <td>3656</td>\n",
       "      <td>1201334.52</td>\n",
       "      <td>559</td>\n",
       "      <td>210698.12</td>\n",
       "      <td>Christmas</td>\n",
       "      <td>Weekday</td>\n",
       "      <td>Nighttime</td>\n",
       "      <td>373</td>\n",
       "      <td>35</td>\n",
       "      <td>4767.19</td>\n",
       "    </tr>\n",
       "  </tbody>\n",
       "</table>\n",
       "<p>5 rows × 23 columns</p>\n",
       "</div>"
      ],
      "text/plain": [
       "   Quantity  UnitPrice CustomerID Cancel_status  Gift_Seasonal  \\\n",
       "0         6       2.55      17850     Completed              1   \n",
       "1         6       3.39      17850     Completed              0   \n",
       "2         8       2.75      17850     Completed              1   \n",
       "3         6       3.39      17850     Completed              0   \n",
       "4         6       3.39      17850     Completed              1   \n",
       "\n",
       "   Bags_Accessories  Kitchenware  Home_Decor  Household UK_transaction  ...  \\\n",
       "0                 0            0           1          0             UK  ...   \n",
       "1                 0            0           0          1             UK  ...   \n",
       "2                 0            1           0          0             UK  ...   \n",
       "3                 0            0           0          1             UK  ...   \n",
       "4                 0            0           0          0             UK  ...   \n",
       "\n",
       "  Weekday_purchase  Weekday_spending  Hour_purchase  Hour_spending  \\\n",
       "0             3656        1201334.52            559      210698.12   \n",
       "1             3656        1201334.52            559      210698.12   \n",
       "2             3656        1201334.52            559      210698.12   \n",
       "3             3656        1201334.52            559      210698.12   \n",
       "4             3656        1201334.52            559      210698.12   \n",
       "\n",
       "   Holiday_season  Is_Weekday  Is_Daytime Recency Frequency Monetary  \n",
       "0       Christmas     Weekday   Nighttime     373        35  4767.19  \n",
       "1       Christmas     Weekday   Nighttime     373        35  4767.19  \n",
       "2       Christmas     Weekday   Nighttime     373        35  4767.19  \n",
       "3       Christmas     Weekday   Nighttime     373        35  4767.19  \n",
       "4       Christmas     Weekday   Nighttime     373        35  4767.19  \n",
       "\n",
       "[5 rows x 23 columns]"
      ]
     },
     "execution_count": 73,
     "metadata": {},
     "output_type": "execute_result"
    }
   ],
   "source": [
    "# Drop columns that are identifiers or have been superseded by engineered features\n",
    "data = data.drop(columns=['InvoiceNo', 'StockCode', 'Description', 'InvoiceDate', 'Country', 'TotalPrice',\n",
    "                            'Month', 'Weekday', 'Hour'])\n",
    "data.head()"
   ]
  },
  {
   "cell_type": "code",
   "execution_count": 74,
   "id": "0067ac06",
   "metadata": {},
   "outputs": [],
   "source": [
    "# Separate the features (X) from the customer identifier\n",
    "X = data.drop(columns=['CustomerID'])"
   ]
  },
  {
   "cell_type": "code",
   "execution_count": 75,
   "id": "c779d978",
   "metadata": {},
   "outputs": [],
   "source": [
    "# Define the numeric and categorical features for the transformation pipeline\n",
    "numeric_features = ['Quantity', 'UnitPrice', 'Monthly_purchase', 'Monthly_spending', 'Weekday_purchase', 'Weekday_spending',\n",
    "                     'Hour_purchase', 'Hour_spending', 'Recency', 'Frequency', 'Monetary']\n",
    "categorical_features = ['Cancel_status', 'Gift_Seasonal', 'Bags_Accessories', 'Kitchenware', 'Home_Decor', 'Household',\n",
    "                       'UK_transaction', 'TotalPrice_range',  'Holiday_season', 'Is_Weekday', 'Is_Daytime']\n",
    "\n",
    "# Create a preprocessing pipeline with ColumnTransformer\n",
    "scaling_pipeline = ColumnTransformer(\n",
    "    transformers=[\n",
    "        ('onehot', OneHotEncoder(), categorical_features),\n",
    "        ('scaler', StandardScaler(), numeric_features)\n",
    "    ],\n",
    "    remainder='drop',\n",
    "    sparse_threshold=0\n",
    ")"
   ]
  },
  {
   "cell_type": "code",
   "execution_count": 76,
   "id": "d1b1b1b5",
   "metadata": {},
   "outputs": [
    {
     "data": {
      "text/html": [
       "<div>\n",
       "<style scoped>\n",
       "    .dataframe tbody tr th:only-of-type {\n",
       "        vertical-align: middle;\n",
       "    }\n",
       "\n",
       "    .dataframe tbody tr th {\n",
       "        vertical-align: top;\n",
       "    }\n",
       "\n",
       "    .dataframe thead th {\n",
       "        text-align: right;\n",
       "    }\n",
       "</style>\n",
       "<table border=\"1\" class=\"dataframe\">\n",
       "  <thead>\n",
       "    <tr style=\"text-align: right;\">\n",
       "      <th></th>\n",
       "      <th>onehot__Cancel_status_Cancelled</th>\n",
       "      <th>onehot__Cancel_status_Completed</th>\n",
       "      <th>onehot__Gift_Seasonal_0</th>\n",
       "      <th>onehot__Gift_Seasonal_1</th>\n",
       "      <th>onehot__Bags_Accessories_0</th>\n",
       "      <th>onehot__Bags_Accessories_1</th>\n",
       "      <th>onehot__Kitchenware_0</th>\n",
       "      <th>onehot__Kitchenware_1</th>\n",
       "      <th>onehot__Home_Decor_0</th>\n",
       "      <th>onehot__Home_Decor_1</th>\n",
       "      <th>...</th>\n",
       "      <th>scaler__UnitPrice</th>\n",
       "      <th>scaler__Monthly_purchase</th>\n",
       "      <th>scaler__Monthly_spending</th>\n",
       "      <th>scaler__Weekday_purchase</th>\n",
       "      <th>scaler__Weekday_spending</th>\n",
       "      <th>scaler__Hour_purchase</th>\n",
       "      <th>scaler__Hour_spending</th>\n",
       "      <th>scaler__Recency</th>\n",
       "      <th>scaler__Frequency</th>\n",
       "      <th>scaler__Monetary</th>\n",
       "    </tr>\n",
       "  </thead>\n",
       "  <tbody>\n",
       "    <tr>\n",
       "      <th>0</th>\n",
       "      <td>0.0</td>\n",
       "      <td>1.0</td>\n",
       "      <td>0.0</td>\n",
       "      <td>1.0</td>\n",
       "      <td>1.0</td>\n",
       "      <td>0.0</td>\n",
       "      <td>1.0</td>\n",
       "      <td>0.0</td>\n",
       "      <td>0.0</td>\n",
       "      <td>1.0</td>\n",
       "      <td>...</td>\n",
       "      <td>-0.103914</td>\n",
       "      <td>0.90605</td>\n",
       "      <td>0.456247</td>\n",
       "      <td>0.472988</td>\n",
       "      <td>0.434293</td>\n",
       "      <td>-2.387699</td>\n",
       "      <td>-2.222019</td>\n",
       "      <td>1.96303</td>\n",
       "      <td>0.336539</td>\n",
       "      <td>-0.185909</td>\n",
       "    </tr>\n",
       "    <tr>\n",
       "      <th>1</th>\n",
       "      <td>0.0</td>\n",
       "      <td>1.0</td>\n",
       "      <td>1.0</td>\n",
       "      <td>0.0</td>\n",
       "      <td>1.0</td>\n",
       "      <td>0.0</td>\n",
       "      <td>1.0</td>\n",
       "      <td>0.0</td>\n",
       "      <td>1.0</td>\n",
       "      <td>0.0</td>\n",
       "      <td>...</td>\n",
       "      <td>0.205481</td>\n",
       "      <td>0.90605</td>\n",
       "      <td>0.456247</td>\n",
       "      <td>0.472988</td>\n",
       "      <td>0.434293</td>\n",
       "      <td>-2.387699</td>\n",
       "      <td>-2.222019</td>\n",
       "      <td>1.96303</td>\n",
       "      <td>0.336539</td>\n",
       "      <td>-0.185909</td>\n",
       "    </tr>\n",
       "    <tr>\n",
       "      <th>2</th>\n",
       "      <td>0.0</td>\n",
       "      <td>1.0</td>\n",
       "      <td>0.0</td>\n",
       "      <td>1.0</td>\n",
       "      <td>1.0</td>\n",
       "      <td>0.0</td>\n",
       "      <td>0.0</td>\n",
       "      <td>1.0</td>\n",
       "      <td>1.0</td>\n",
       "      <td>0.0</td>\n",
       "      <td>...</td>\n",
       "      <td>-0.030249</td>\n",
       "      <td>0.90605</td>\n",
       "      <td>0.456247</td>\n",
       "      <td>0.472988</td>\n",
       "      <td>0.434293</td>\n",
       "      <td>-2.387699</td>\n",
       "      <td>-2.222019</td>\n",
       "      <td>1.96303</td>\n",
       "      <td>0.336539</td>\n",
       "      <td>-0.185909</td>\n",
       "    </tr>\n",
       "    <tr>\n",
       "      <th>3</th>\n",
       "      <td>0.0</td>\n",
       "      <td>1.0</td>\n",
       "      <td>1.0</td>\n",
       "      <td>0.0</td>\n",
       "      <td>1.0</td>\n",
       "      <td>0.0</td>\n",
       "      <td>1.0</td>\n",
       "      <td>0.0</td>\n",
       "      <td>1.0</td>\n",
       "      <td>0.0</td>\n",
       "      <td>...</td>\n",
       "      <td>0.205481</td>\n",
       "      <td>0.90605</td>\n",
       "      <td>0.456247</td>\n",
       "      <td>0.472988</td>\n",
       "      <td>0.434293</td>\n",
       "      <td>-2.387699</td>\n",
       "      <td>-2.222019</td>\n",
       "      <td>1.96303</td>\n",
       "      <td>0.336539</td>\n",
       "      <td>-0.185909</td>\n",
       "    </tr>\n",
       "    <tr>\n",
       "      <th>4</th>\n",
       "      <td>0.0</td>\n",
       "      <td>1.0</td>\n",
       "      <td>0.0</td>\n",
       "      <td>1.0</td>\n",
       "      <td>1.0</td>\n",
       "      <td>0.0</td>\n",
       "      <td>1.0</td>\n",
       "      <td>0.0</td>\n",
       "      <td>1.0</td>\n",
       "      <td>0.0</td>\n",
       "      <td>...</td>\n",
       "      <td>0.205481</td>\n",
       "      <td>0.90605</td>\n",
       "      <td>0.456247</td>\n",
       "      <td>0.472988</td>\n",
       "      <td>0.434293</td>\n",
       "      <td>-2.387699</td>\n",
       "      <td>-2.222019</td>\n",
       "      <td>1.96303</td>\n",
       "      <td>0.336539</td>\n",
       "      <td>-0.185909</td>\n",
       "    </tr>\n",
       "  </tbody>\n",
       "</table>\n",
       "<p>5 rows × 35 columns</p>\n",
       "</div>"
      ],
      "text/plain": [
       "   onehot__Cancel_status_Cancelled  onehot__Cancel_status_Completed  \\\n",
       "0                              0.0                              1.0   \n",
       "1                              0.0                              1.0   \n",
       "2                              0.0                              1.0   \n",
       "3                              0.0                              1.0   \n",
       "4                              0.0                              1.0   \n",
       "\n",
       "   onehot__Gift_Seasonal_0  onehot__Gift_Seasonal_1  \\\n",
       "0                      0.0                      1.0   \n",
       "1                      1.0                      0.0   \n",
       "2                      0.0                      1.0   \n",
       "3                      1.0                      0.0   \n",
       "4                      0.0                      1.0   \n",
       "\n",
       "   onehot__Bags_Accessories_0  onehot__Bags_Accessories_1  \\\n",
       "0                         1.0                         0.0   \n",
       "1                         1.0                         0.0   \n",
       "2                         1.0                         0.0   \n",
       "3                         1.0                         0.0   \n",
       "4                         1.0                         0.0   \n",
       "\n",
       "   onehot__Kitchenware_0  onehot__Kitchenware_1  onehot__Home_Decor_0  \\\n",
       "0                    1.0                    0.0                   0.0   \n",
       "1                    1.0                    0.0                   1.0   \n",
       "2                    0.0                    1.0                   1.0   \n",
       "3                    1.0                    0.0                   1.0   \n",
       "4                    1.0                    0.0                   1.0   \n",
       "\n",
       "   onehot__Home_Decor_1  ...  scaler__UnitPrice  scaler__Monthly_purchase  \\\n",
       "0                   1.0  ...          -0.103914                   0.90605   \n",
       "1                   0.0  ...           0.205481                   0.90605   \n",
       "2                   0.0  ...          -0.030249                   0.90605   \n",
       "3                   0.0  ...           0.205481                   0.90605   \n",
       "4                   0.0  ...           0.205481                   0.90605   \n",
       "\n",
       "   scaler__Monthly_spending  scaler__Weekday_purchase  \\\n",
       "0                  0.456247                  0.472988   \n",
       "1                  0.456247                  0.472988   \n",
       "2                  0.456247                  0.472988   \n",
       "3                  0.456247                  0.472988   \n",
       "4                  0.456247                  0.472988   \n",
       "\n",
       "   scaler__Weekday_spending  scaler__Hour_purchase  scaler__Hour_spending  \\\n",
       "0                  0.434293              -2.387699              -2.222019   \n",
       "1                  0.434293              -2.387699              -2.222019   \n",
       "2                  0.434293              -2.387699              -2.222019   \n",
       "3                  0.434293              -2.387699              -2.222019   \n",
       "4                  0.434293              -2.387699              -2.222019   \n",
       "\n",
       "   scaler__Recency  scaler__Frequency  scaler__Monetary  \n",
       "0          1.96303           0.336539         -0.185909  \n",
       "1          1.96303           0.336539         -0.185909  \n",
       "2          1.96303           0.336539         -0.185909  \n",
       "3          1.96303           0.336539         -0.185909  \n",
       "4          1.96303           0.336539         -0.185909  \n",
       "\n",
       "[5 rows x 35 columns]"
      ]
     },
     "execution_count": 76,
     "metadata": {},
     "output_type": "execute_result"
    }
   ],
   "source": [
    "# Apply the transformations to the feature set\n",
    "X_scaled = scaling_pipeline.fit_transform(X)\n",
    "X_scaled = pd.DataFrame(X_scaled, columns=scaling_pipeline.get_feature_names_out())\n",
    "X_scaled.head()"
   ]
  },
  {
   "cell_type": "code",
   "execution_count": 77,
   "id": "03540710",
   "metadata": {},
   "outputs": [],
   "source": [
    "# Save the feature-engineered data for cluster profiling\n",
    "X.to_pickle('X_processed.pkl')"
   ]
  },
  {
   "cell_type": "code",
   "execution_count": 78,
   "id": "ed9d1de3",
   "metadata": {},
   "outputs": [],
   "source": [
    "# Save the scaled data for modeling\n",
    "X_scaled.to_pickle('X_scaled.pkl')"
   ]
  }
 ],
 "metadata": {
  "kernelspec": {
   "display_name": "base",
   "language": "python",
   "name": "python3"
  },
  "language_info": {
   "codemirror_mode": {
    "name": "ipython",
    "version": 3
   },
   "file_extension": ".py",
   "mimetype": "text/x-python",
   "name": "python",
   "nbconvert_exporter": "python",
   "pygments_lexer": "ipython3",
   "version": "3.12.7"
  }
 },
 "nbformat": 4,
 "nbformat_minor": 5
}
